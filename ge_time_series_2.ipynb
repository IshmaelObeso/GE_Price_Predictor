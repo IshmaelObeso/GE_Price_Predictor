{
 "cells": [
  {
   "cell_type": "code",
   "execution_count": 1,
   "metadata": {},
   "outputs": [],
   "source": [
    "# import \n",
    "import pandas as pd\n",
    "import numpy as np\n",
    "import matplotlib.pyplot as plt\n",
    "\n",
    "import torch\n",
    "import torch.nn as nn\n",
    "from torch.utils.data import TensorDataset, DataLoader\n",
    "from sklearn.preprocessing import MinMaxScaler"
   ]
  },
  {
   "cell_type": "code",
   "execution_count": 2,
   "metadata": {},
   "outputs": [
    {
     "data": {
      "text/html": [
       "<div>\n",
       "<style scoped>\n",
       "    .dataframe tbody tr th:only-of-type {\n",
       "        vertical-align: middle;\n",
       "    }\n",
       "\n",
       "    .dataframe tbody tr th {\n",
       "        vertical-align: top;\n",
       "    }\n",
       "\n",
       "    .dataframe thead th {\n",
       "        text-align: right;\n",
       "    }\n",
       "</style>\n",
       "<table border=\"1\" class=\"dataframe\">\n",
       "  <thead>\n",
       "    <tr style=\"text-align: right;\">\n",
       "      <th></th>\n",
       "      <th>timestamp</th>\n",
       "      <th>Fire_rune</th>\n",
       "      <th>Water_rune</th>\n",
       "      <th>Air_rune</th>\n",
       "      <th>Earth_rune</th>\n",
       "      <th>Mind_rune</th>\n",
       "      <th>Body_rune</th>\n",
       "      <th>Death_rune</th>\n",
       "      <th>Nature_rune</th>\n",
       "      <th>Chaos_rune</th>\n",
       "      <th>Law_rune</th>\n",
       "      <th>Cosmic_rune</th>\n",
       "      <th>Blood_rune</th>\n",
       "      <th>Soul_rune</th>\n",
       "    </tr>\n",
       "  </thead>\n",
       "  <tbody>\n",
       "    <tr>\n",
       "      <td>0</td>\n",
       "      <td>1562371200000</td>\n",
       "      <td>5</td>\n",
       "      <td>5</td>\n",
       "      <td>5</td>\n",
       "      <td>5</td>\n",
       "      <td>4</td>\n",
       "      <td>4</td>\n",
       "      <td>209</td>\n",
       "      <td>204</td>\n",
       "      <td>93</td>\n",
       "      <td>192</td>\n",
       "      <td>115</td>\n",
       "      <td>368</td>\n",
       "      <td>147</td>\n",
       "    </tr>\n",
       "    <tr>\n",
       "      <td>1</td>\n",
       "      <td>1562457600000</td>\n",
       "      <td>5</td>\n",
       "      <td>5</td>\n",
       "      <td>5</td>\n",
       "      <td>4</td>\n",
       "      <td>4</td>\n",
       "      <td>4</td>\n",
       "      <td>208</td>\n",
       "      <td>202</td>\n",
       "      <td>93</td>\n",
       "      <td>192</td>\n",
       "      <td>112</td>\n",
       "      <td>376</td>\n",
       "      <td>147</td>\n",
       "    </tr>\n",
       "    <tr>\n",
       "      <td>2</td>\n",
       "      <td>1562544000000</td>\n",
       "      <td>5</td>\n",
       "      <td>5</td>\n",
       "      <td>5</td>\n",
       "      <td>5</td>\n",
       "      <td>4</td>\n",
       "      <td>4</td>\n",
       "      <td>208</td>\n",
       "      <td>202</td>\n",
       "      <td>92</td>\n",
       "      <td>190</td>\n",
       "      <td>114</td>\n",
       "      <td>371</td>\n",
       "      <td>147</td>\n",
       "    </tr>\n",
       "    <tr>\n",
       "      <td>3</td>\n",
       "      <td>1562630400000</td>\n",
       "      <td>5</td>\n",
       "      <td>5</td>\n",
       "      <td>5</td>\n",
       "      <td>5</td>\n",
       "      <td>4</td>\n",
       "      <td>4</td>\n",
       "      <td>208</td>\n",
       "      <td>203</td>\n",
       "      <td>92</td>\n",
       "      <td>188</td>\n",
       "      <td>112</td>\n",
       "      <td>368</td>\n",
       "      <td>147</td>\n",
       "    </tr>\n",
       "    <tr>\n",
       "      <td>4</td>\n",
       "      <td>1562716800000</td>\n",
       "      <td>5</td>\n",
       "      <td>4</td>\n",
       "      <td>5</td>\n",
       "      <td>5</td>\n",
       "      <td>4</td>\n",
       "      <td>4</td>\n",
       "      <td>208</td>\n",
       "      <td>205</td>\n",
       "      <td>92</td>\n",
       "      <td>187</td>\n",
       "      <td>114</td>\n",
       "      <td>368</td>\n",
       "      <td>148</td>\n",
       "    </tr>\n",
       "  </tbody>\n",
       "</table>\n",
       "</div>"
      ],
      "text/plain": [
       "       timestamp  Fire_rune  Water_rune  Air_rune  Earth_rune  Mind_rune  \\\n",
       "0  1562371200000          5           5         5           5          4   \n",
       "1  1562457600000          5           5         5           4          4   \n",
       "2  1562544000000          5           5         5           5          4   \n",
       "3  1562630400000          5           5         5           5          4   \n",
       "4  1562716800000          5           4         5           5          4   \n",
       "\n",
       "   Body_rune  Death_rune  Nature_rune  Chaos_rune  Law_rune  Cosmic_rune  \\\n",
       "0          4         209          204          93       192          115   \n",
       "1          4         208          202          93       192          112   \n",
       "2          4         208          202          92       190          114   \n",
       "3          4         208          203          92       188          112   \n",
       "4          4         208          205          92       187          114   \n",
       "\n",
       "   Blood_rune  Soul_rune  \n",
       "0         368        147  \n",
       "1         376        147  \n",
       "2         371        147  \n",
       "3         368        147  \n",
       "4         368        148  "
      ]
     },
     "execution_count": 2,
     "metadata": {},
     "output_type": "execute_result"
    }
   ],
   "source": [
    "rune_data_filename = 'data/Rune_Data.csv'\n",
    "\n",
    "rune_dataframe = pd.read_csv(rune_data_filename)\n",
    "rune_dataframe.head()"
   ]
  },
  {
   "cell_type": "code",
   "execution_count": 3,
   "metadata": {},
   "outputs": [],
   "source": [
    "def univariate_data(dataset, history_size):\n",
    "\n",
    "    \n",
    "    L = len(dataset)\n",
    "    for i in range(L - history_size):\n",
    "        \n",
    "        train_seq = np.stack(dataset[i:i+history_size] for i in range(L-history_size))\n",
    "        train_label = np.stack(dataset[i+history_size:i+history_size+1] for i in range(L-history_size))\n",
    "        \n",
    "#         train_seq = dataset[i:i+history_size]\n",
    "#         train_label = dataset[i+history_size:i+history_size+1]\n",
    "        \n",
    "        \n",
    "\n",
    "        \n",
    "    return train_seq, train_label"
   ]
  },
  {
   "cell_type": "code",
   "execution_count": 4,
   "metadata": {},
   "outputs": [],
   "source": [
    "uni_data = rune_dataframe['Chaos_rune']\n",
    "uni_data.index = rune_dataframe['timestamp']"
   ]
  },
  {
   "cell_type": "code",
   "execution_count": 5,
   "metadata": {},
   "outputs": [
    {
     "data": {
      "text/plain": [
       "<matplotlib.axes._subplots.AxesSubplot at 0x7efcbb91c3c8>"
      ]
     },
     "execution_count": 5,
     "metadata": {},
     "output_type": "execute_result"
    },
    {
     "data": {
      "image/png": "[encoded data removed]",
      "text/plain": [
       "<Figure size 432x288 with 1 Axes>"
      ]
     },
     "metadata": {
      "needs_background": "light"
     },
     "output_type": "display_data"
    }
   ],
   "source": [
    "uni_data.plot()"
   ]
  },
  {
   "cell_type": "code",
   "execution_count": 6,
   "metadata": {},
   "outputs": [
    {
     "data": {
      "text/plain": [
       "(180,)"
      ]
     },
     "execution_count": 6,
     "metadata": {},
     "output_type": "execute_result"
    }
   ],
   "source": [
    "uni_data = uni_data.values\n",
    "uni_data.shape"
   ]
  },
  {
   "cell_type": "code",
   "execution_count": 7,
   "metadata": {},
   "outputs": [
    {
     "data": {
      "text/plain": [
       "(180, 1)"
      ]
     },
     "execution_count": 7,
     "metadata": {},
     "output_type": "execute_result"
    }
   ],
   "source": [
    "# normalize data\n",
    "scaler = MinMaxScaler(feature_range=(-1,1))\n",
    "\n",
    "uni_data = scaler.fit_transform(uni_data.reshape(-1,1))\n",
    "uni_data.shape"
   ]
  },
  {
   "cell_type": "code",
   "execution_count": 8,
   "metadata": {},
   "outputs": [
    {
     "data": {
      "text/plain": [
       "array([[1.        ],\n",
       "       [1.        ],\n",
       "       [0.94117647],\n",
       "       [0.94117647],\n",
       "       [0.94117647],\n",
       "       [0.94117647],\n",
       "       [0.94117647],\n",
       "       [0.94117647],\n",
       "       [0.94117647],\n",
       "       [0.94117647],\n",
       "       [0.94117647]])"
      ]
     },
     "execution_count": 8,
     "metadata": {},
     "output_type": "execute_result"
    }
   ],
   "source": [
    "uni_data[:11]"
   ]
  },
  {
   "cell_type": "code",
   "execution_count": 9,
   "metadata": {},
   "outputs": [
    {
     "name": "stdout",
     "output_type": "stream",
     "text": [
      "(170, 10, 1)\n",
      "(170,)\n"
     ]
    },
    {
     "name": "stderr",
     "output_type": "stream",
     "text": [
      "/home/snowballfight/anaconda3/envs/pytorchenv/lib/python3.7/site-packages/ipykernel_launcher.py:7: FutureWarning: arrays to stack must be passed as a \"sequence\" type such as list or tuple. Support for non-sequence iterables such as generators is deprecated as of NumPy 1.16 and will raise an error in the future.\n",
      "  import sys\n",
      "/home/snowballfight/anaconda3/envs/pytorchenv/lib/python3.7/site-packages/ipykernel_launcher.py:8: FutureWarning: arrays to stack must be passed as a \"sequence\" type such as list or tuple. Support for non-sequence iterables such as generators is deprecated as of NumPy 1.16 and will raise an error in the future.\n",
      "  \n"
     ]
    }
   ],
   "source": [
    "history = 10\n",
    "x_train_uni, y_train_uni = univariate_data(uni_data, history)\n",
    "y_train_uni = y_train_uni.squeeze(2).squeeze(1)\n",
    "print(x_train_uni.shape)\n",
    "print(y_train_uni.shape)"
   ]
  },
  {
   "cell_type": "code",
   "execution_count": 10,
   "metadata": {},
   "outputs": [],
   "source": [
    "x_train_uni = torch.Tensor(x_train_uni)\n",
    "y_train_uni = torch.Tensor(y_train_uni)\n",
    "\n",
    "# create Dataset\n",
    "dataset = TensorDataset(x_train_uni, y_train_uni)\n",
    "dataloader = DataLoader(dataset, shuffle=False)\n",
    "\n",
    "\n",
    "# for num_iter, (seq, label) in enumerate(dataloader):\n",
    "#     print(num_iter)\n",
    "#     print(seq.shape)\n",
    "#     print(label.shape)"
   ]
  },
  {
   "cell_type": "code",
   "execution_count": 11,
   "metadata": {},
   "outputs": [],
   "source": [
    "device = torch.device('cuda' if torch.cuda.is_available() else 'cpu')"
   ]
  },
  {
   "cell_type": "code",
   "execution_count": 12,
   "metadata": {},
   "outputs": [],
   "source": [
    "class RnnModel(nn.Module):\n",
    "    def __init__(self, input_size, output_size, hidden_dim):\n",
    "        super().__init__()\n",
    "        \n",
    "        # define some parameters\n",
    "        self.hidden_dim = hidden_dim\n",
    "\n",
    "        # define layers\n",
    "        # RNN layers\n",
    "        self.lstm = nn.LSTM(input_size, hidden_dim)\n",
    "        #FC layers\n",
    "        self.fc = nn.Linear(hidden_dim, output_size)\n",
    "    \n",
    "    def forward(self, x):\n",
    "        x = x.to(device)\n",
    "        # set initial hidden and cell states\n",
    "        h0 = torch.zeros(1,1,self.hidden_dim).to(device)\n",
    "        c0 = torch.zeros(1,1,self.hidden_dim).to(device)\n",
    "        # forward propagate \n",
    "#         print(h0.size())\n",
    "#         print(c0.size())\n",
    "#         print(x.size())\n",
    "#         print(x.view(len(x),1,-1).size())\n",
    "        out, _ = self.lstm(x.view(len(x),1,-1), (h0, c0))\n",
    "        \n",
    "        # decode hidden of last time step\n",
    "        \n",
    "        out = self.fc(out.view(len(x), -1))\n",
    "        \n",
    "        \n",
    "        return out[-1]\n"
   ]
  },
  {
   "cell_type": "code",
   "execution_count": 13,
   "metadata": {},
   "outputs": [],
   "source": [
    "model = RnnModel(input_size=1, output_size=1, hidden_dim=100)"
   ]
  },
  {
   "cell_type": "code",
   "execution_count": 14,
   "metadata": {},
   "outputs": [],
   "source": [
    "# hyperparameters\n",
    "n_epochs = 250\n",
    "lr = .01\n",
    "\n",
    "# define loss and optimizer \n",
    "criterion = nn.MSELoss()\n",
    "optimizer = torch.optim.Adam(model.parameters(), lr=lr)"
   ]
  },
  {
   "cell_type": "code",
   "execution_count": 15,
   "metadata": {},
   "outputs": [
    {
     "data": {
      "text/plain": [
       "RnnModel(\n",
       "  (lstm): LSTM(1, 100)\n",
       "  (fc): Linear(in_features=100, out_features=1, bias=True)\n",
       ")"
      ]
     },
     "execution_count": 15,
     "metadata": {},
     "output_type": "execute_result"
    }
   ],
   "source": [
    "model.to(device)"
   ]
  },
  {
   "cell_type": "code",
   "execution_count": 16,
   "metadata": {},
   "outputs": [
    {
     "name": "stdout",
     "output_type": "stream",
     "text": [
      "Epoch: 0/250.........\n",
      "Loss: 0.007555722258985043\n",
      "Epoch: 10/250.........\n",
      "Loss: 0.004926546011120081\n",
      "Epoch: 20/250.........\n",
      "Loss: 0.006936505902558565\n",
      "Epoch: 30/250.........\n",
      "Loss: 0.002240023808553815\n",
      "Epoch: 40/250.........\n",
      "Loss: 1.3310389476828277e-05\n",
      "Epoch: 50/250.........\n",
      "Loss: 0.006597284227609634\n",
      "Epoch: 60/250.........\n",
      "Loss: 0.001684766262769699\n",
      "Epoch: 70/250.........\n",
      "Loss: 0.002468255814164877\n",
      "Epoch: 80/250.........\n",
      "Loss: 0.0010204671416431665\n",
      "Epoch: 90/250.........\n",
      "Loss: 2.5485682272119448e-05\n",
      "Epoch: 100/250.........\n",
      "Loss: 0.0075410050339996815\n",
      "Epoch: 110/250.........\n",
      "Loss: 0.01989038847386837\n",
      "Epoch: 120/250.........\n",
      "Loss: 0.006206748075783253\n",
      "Epoch: 130/250.........\n",
      "Loss: 0.000358465185854584\n",
      "Epoch: 140/250.........\n",
      "Loss: 0.0005453895428217947\n",
      "Epoch: 150/250.........\n",
      "Loss: 0.0006761127733625472\n",
      "Epoch: 160/250.........\n",
      "Loss: 0.006888238713145256\n",
      "Epoch: 170/250.........\n",
      "Loss: 0.003325869794934988\n",
      "Epoch: 180/250.........\n",
      "Loss: 0.001931651495397091\n",
      "Epoch: 190/250.........\n",
      "Loss: 0.0017945216968655586\n",
      "Epoch: 200/250.........\n",
      "Loss: 2.193174395870301e-06\n",
      "Epoch: 210/250.........\n",
      "Loss: 0.002929884707555175\n",
      "Epoch: 220/250.........\n",
      "Loss: 0.0011288139503449202\n",
      "Epoch: 230/250.........\n",
      "Loss: 0.00034961881465278566\n",
      "Epoch: 240/250.........\n",
      "Loss: 0.0024286876432597637\n"
     ]
    }
   ],
   "source": [
    "for epoch in range(n_epochs):\n",
    "    for num_iter, (seq, label) in enumerate(dataloader):\n",
    "        seq = seq.to(device)\n",
    "        label = label.to(device)\n",
    "        seq = seq.reshape(10,1)\n",
    "\n",
    "        \n",
    "        \n",
    "        optimizer.zero_grad()\n",
    "        \n",
    "        \n",
    "        output = model(seq)\n",
    "        \n",
    "        loss = criterion(output, label)\n",
    "        loss.backward()\n",
    "        optimizer.step()\n",
    "\n",
    "    if epoch%10 == 0:\n",
    "        print(f'Epoch: {epoch}/{n_epochs}.........')\n",
    "        print(f'Loss: {loss.item()}')"
   ]
  },
  {
   "cell_type": "code",
   "execution_count": 17,
   "metadata": {},
   "outputs": [
    {
     "name": "stdout",
     "output_type": "stream",
     "text": [
      "[-0.5882352941176472, -0.5882352941176472, -0.5882352941176472, -0.5882352941176472, -0.5882352941176472, -0.7058823529411766, -0.8823529411764706, -1.0, -1.0, -0.8823529411764706]\n"
     ]
    }
   ],
   "source": [
    "fut_pred = 10\n",
    "\n",
    "test_inputs = uni_data[-history:].squeeze(1).tolist()\n",
    "print(test_inputs)"
   ]
  },
  {
   "cell_type": "code",
   "execution_count": 18,
   "metadata": {},
   "outputs": [
    {
     "name": "stdout",
     "output_type": "stream",
     "text": [
      "10\n",
      "11\n",
      "12\n",
      "13\n",
      "14\n",
      "15\n",
      "16\n",
      "17\n",
      "18\n",
      "19\n",
      "[-0.5882352941176472, -0.5882352941176472, -0.5882352941176472, -0.5882352941176472, -0.5882352941176472, -0.7058823529411766, -0.8823529411764706, -1.0, -1.0, -0.8823529411764706, -0.7196959853172302, -0.5795875787734985, -0.5262758731842041, -0.5454516410827637, -0.574925422668457, -0.5895275473594666, -0.5890487432479858, -0.592475950717926, -0.6085861921310425, -0.631540060043335]\n"
     ]
    }
   ],
   "source": [
    "model.eval()\n",
    "\n",
    "for i in range(history):\n",
    "    print(len(test_inputs))\n",
    "    seq = torch.FloatTensor(test_inputs[-history:])\n",
    "    with torch.no_grad():\n",
    "        test_inputs.append(model(seq).item())\n",
    "        \n",
    "print(test_inputs)        "
   ]
  },
  {
   "cell_type": "code",
   "execution_count": 19,
   "metadata": {},
   "outputs": [],
   "source": [
    "x = np.arange(170,180,1) "
   ]
  },
  {
   "cell_type": "code",
   "execution_count": 20,
   "metadata": {},
   "outputs": [
    {
     "name": "stdout",
     "output_type": "stream",
     "text": [
      "[[63.76516825]\n",
      " [66.14701116]\n",
      " [67.05331016]\n",
      " [66.7273221 ]\n",
      " [66.22626781]\n",
      " [65.97803169]\n",
      " [65.98617136]\n",
      " [65.92790884]\n",
      " [65.65403473]\n",
      " [65.26381898]]\n"
     ]
    }
   ],
   "source": [
    "actual_predictions = scaler.inverse_transform(np.array(test_inputs[10:]).reshape(-1,1))\n",
    "print(actual_predictions)"
   ]
  },
  {
   "cell_type": "code",
   "execution_count": 21,
   "metadata": {},
   "outputs": [
    {
     "data": {
      "image/png": "[encoded data removed]",
      "text/plain": [
       "<Figure size 432x288 with 1 Axes>"
      ]
     },
     "metadata": {
      "needs_background": "light"
     },
     "output_type": "display_data"
    }
   ],
   "source": [
    "plt.title(\"Time v Price\")\n",
    "plt.ylabel('Price')\n",
    "plt.grid(True)\n",
    "plt.autoscale(axis='x', tight=True)\n",
    "plt.plot(scaler.inverse_transform(uni_data))\n",
    "plt.plot(x, actual_predictions)\n",
    "plt.show()"
   ]
  },
  {
   "cell_type": "code",
   "execution_count": 22,
   "metadata": {},
   "outputs": [
    {
     "data": {
      "image/png": "[encoded data removed]",
      "text/plain": [
       "<Figure size 432x288 with 1 Axes>"
      ]
     },
     "metadata": {
      "needs_background": "light"
     },
     "output_type": "display_data"
    }
   ],
   "source": [
    "plt.title('Time v Price')\n",
    "plt.ylabel('Price')\n",
    "plt.grid(True)\n",
    "plt.autoscale(axis='x', tight=True)\n",
    "\n",
    "plt.plot(x,scaler.inverse_transform(uni_data)[-history:])\n",
    "plt.plot(x,actual_predictions)\n",
    "plt.show()"
   ]
  },
  {
   "cell_type": "code",
   "execution_count": null,
   "metadata": {},
   "outputs": [],
   "source": []
  },
  {
   "cell_type": "code",
   "execution_count": null,
   "metadata": {},
   "outputs": [],
   "source": []
  },
  {
   "cell_type": "code",
   "execution_count": null,
   "metadata": {},
   "outputs": [],
   "source": []
  }
 ],
 "metadata": {
  "kernelspec": {
   "display_name": "Python 3",
   "language": "python",
   "name": "python3"
  },
  "language_info": {
   "codemirror_mode": {
    "name": "ipython",
    "version": 3
   },
   "file_extension": ".py",
   "mimetype": "text/x-python",
   "name": "python",
   "nbconvert_exporter": "python",
   "pygments_lexer": "ipython3",
   "version": "3.7.3"
  }
 },
 "nbformat": 4,
 "nbformat_minor": 2
}
