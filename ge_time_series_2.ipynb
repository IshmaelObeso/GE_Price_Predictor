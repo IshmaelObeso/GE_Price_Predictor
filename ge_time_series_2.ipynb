{
 "cells": [
  {
   "cell_type": "code",
   "execution_count": 1,
   "metadata": {},
   "outputs": [],
   "source": [
    "# import \n",
    "import pandas as pd\n",
    "import numpy as np\n",
    "import matplotlib.pyplot as plt\n",
    "\n",
    "import torch\n",
    "import torch.nn as nn\n",
    "from torch.utils.data import TensorDataset, DataLoader\n",
    "from sklearn.preprocessing import MinMaxScaler\n",
    "from sklearn.model_selection import TimeSeriesSplit"
   ]
  },
  {
   "cell_type": "code",
   "execution_count": 2,
   "metadata": {},
   "outputs": [
    {
     "data": {
      "text/html": [
       "<div>\n",
       "<style scoped>\n",
       "    .dataframe tbody tr th:only-of-type {\n",
       "        vertical-align: middle;\n",
       "    }\n",
       "\n",
       "    .dataframe tbody tr th {\n",
       "        vertical-align: top;\n",
       "    }\n",
       "\n",
       "    .dataframe thead th {\n",
       "        text-align: right;\n",
       "    }\n",
       "</style>\n",
       "<table border=\"1\" class=\"dataframe\">\n",
       "  <thead>\n",
       "    <tr style=\"text-align: right;\">\n",
       "      <th></th>\n",
       "      <th>timestamp</th>\n",
       "      <th>Fire_rune</th>\n",
       "      <th>Water_rune</th>\n",
       "      <th>Air_rune</th>\n",
       "      <th>Earth_rune</th>\n",
       "      <th>Mind_rune</th>\n",
       "      <th>Body_rune</th>\n",
       "      <th>Death_rune</th>\n",
       "      <th>Nature_rune</th>\n",
       "      <th>Chaos_rune</th>\n",
       "      <th>Law_rune</th>\n",
       "      <th>Cosmic_rune</th>\n",
       "      <th>Blood_rune</th>\n",
       "      <th>Soul_rune</th>\n",
       "    </tr>\n",
       "  </thead>\n",
       "  <tbody>\n",
       "    <tr>\n",
       "      <th>160</th>\n",
       "      <td>1576195200000</td>\n",
       "      <td>5</td>\n",
       "      <td>4</td>\n",
       "      <td>5</td>\n",
       "      <td>4</td>\n",
       "      <td>3</td>\n",
       "      <td>4</td>\n",
       "      <td>201</td>\n",
       "      <td>223</td>\n",
       "      <td>66</td>\n",
       "      <td>166</td>\n",
       "      <td>121</td>\n",
       "      <td>302</td>\n",
       "      <td>145</td>\n",
       "    </tr>\n",
       "    <tr>\n",
       "      <th>161</th>\n",
       "      <td>1576281600000</td>\n",
       "      <td>5</td>\n",
       "      <td>5</td>\n",
       "      <td>5</td>\n",
       "      <td>4</td>\n",
       "      <td>3</td>\n",
       "      <td>4</td>\n",
       "      <td>202</td>\n",
       "      <td>221</td>\n",
       "      <td>66</td>\n",
       "      <td>167</td>\n",
       "      <td>118</td>\n",
       "      <td>303</td>\n",
       "      <td>145</td>\n",
       "    </tr>\n",
       "    <tr>\n",
       "      <th>162</th>\n",
       "      <td>1576368000000</td>\n",
       "      <td>5</td>\n",
       "      <td>5</td>\n",
       "      <td>5</td>\n",
       "      <td>5</td>\n",
       "      <td>3</td>\n",
       "      <td>4</td>\n",
       "      <td>203</td>\n",
       "      <td>219</td>\n",
       "      <td>66</td>\n",
       "      <td>166</td>\n",
       "      <td>115</td>\n",
       "      <td>302</td>\n",
       "      <td>145</td>\n",
       "    </tr>\n",
       "    <tr>\n",
       "      <th>163</th>\n",
       "      <td>1576454400000</td>\n",
       "      <td>5</td>\n",
       "      <td>5</td>\n",
       "      <td>5</td>\n",
       "      <td>5</td>\n",
       "      <td>4</td>\n",
       "      <td>5</td>\n",
       "      <td>204</td>\n",
       "      <td>219</td>\n",
       "      <td>66</td>\n",
       "      <td>166</td>\n",
       "      <td>112</td>\n",
       "      <td>302</td>\n",
       "      <td>144</td>\n",
       "    </tr>\n",
       "    <tr>\n",
       "      <th>164</th>\n",
       "      <td>1576540800000</td>\n",
       "      <td>5</td>\n",
       "      <td>5</td>\n",
       "      <td>5</td>\n",
       "      <td>5</td>\n",
       "      <td>4</td>\n",
       "      <td>5</td>\n",
       "      <td>204</td>\n",
       "      <td>218</td>\n",
       "      <td>66</td>\n",
       "      <td>166</td>\n",
       "      <td>110</td>\n",
       "      <td>303</td>\n",
       "      <td>144</td>\n",
       "    </tr>\n",
       "    <tr>\n",
       "      <th>165</th>\n",
       "      <td>1576627200000</td>\n",
       "      <td>5</td>\n",
       "      <td>5</td>\n",
       "      <td>5</td>\n",
       "      <td>5</td>\n",
       "      <td>4</td>\n",
       "      <td>5</td>\n",
       "      <td>204</td>\n",
       "      <td>216</td>\n",
       "      <td>67</td>\n",
       "      <td>166</td>\n",
       "      <td>113</td>\n",
       "      <td>303</td>\n",
       "      <td>144</td>\n",
       "    </tr>\n",
       "    <tr>\n",
       "      <th>166</th>\n",
       "      <td>1576713600000</td>\n",
       "      <td>5</td>\n",
       "      <td>5</td>\n",
       "      <td>5</td>\n",
       "      <td>5</td>\n",
       "      <td>3</td>\n",
       "      <td>5</td>\n",
       "      <td>203</td>\n",
       "      <td>216</td>\n",
       "      <td>67</td>\n",
       "      <td>166</td>\n",
       "      <td>118</td>\n",
       "      <td>302</td>\n",
       "      <td>144</td>\n",
       "    </tr>\n",
       "    <tr>\n",
       "      <th>167</th>\n",
       "      <td>1576800000000</td>\n",
       "      <td>5</td>\n",
       "      <td>5</td>\n",
       "      <td>5</td>\n",
       "      <td>5</td>\n",
       "      <td>3</td>\n",
       "      <td>4</td>\n",
       "      <td>203</td>\n",
       "      <td>216</td>\n",
       "      <td>67</td>\n",
       "      <td>164</td>\n",
       "      <td>121</td>\n",
       "      <td>301</td>\n",
       "      <td>140</td>\n",
       "    </tr>\n",
       "    <tr>\n",
       "      <th>168</th>\n",
       "      <td>1576886400000</td>\n",
       "      <td>5</td>\n",
       "      <td>5</td>\n",
       "      <td>5</td>\n",
       "      <td>4</td>\n",
       "      <td>3</td>\n",
       "      <td>5</td>\n",
       "      <td>202</td>\n",
       "      <td>216</td>\n",
       "      <td>67</td>\n",
       "      <td>158</td>\n",
       "      <td>119</td>\n",
       "      <td>302</td>\n",
       "      <td>143</td>\n",
       "    </tr>\n",
       "    <tr>\n",
       "      <th>169</th>\n",
       "      <td>1576972800000</td>\n",
       "      <td>5</td>\n",
       "      <td>5</td>\n",
       "      <td>5</td>\n",
       "      <td>5</td>\n",
       "      <td>3</td>\n",
       "      <td>5</td>\n",
       "      <td>203</td>\n",
       "      <td>215</td>\n",
       "      <td>66</td>\n",
       "      <td>152</td>\n",
       "      <td>113</td>\n",
       "      <td>302</td>\n",
       "      <td>145</td>\n",
       "    </tr>\n",
       "    <tr>\n",
       "      <th>170</th>\n",
       "      <td>1577059200000</td>\n",
       "      <td>5</td>\n",
       "      <td>5</td>\n",
       "      <td>5</td>\n",
       "      <td>5</td>\n",
       "      <td>3</td>\n",
       "      <td>5</td>\n",
       "      <td>204</td>\n",
       "      <td>217</td>\n",
       "      <td>66</td>\n",
       "      <td>147</td>\n",
       "      <td>110</td>\n",
       "      <td>302</td>\n",
       "      <td>145</td>\n",
       "    </tr>\n",
       "    <tr>\n",
       "      <th>171</th>\n",
       "      <td>1577145600000</td>\n",
       "      <td>5</td>\n",
       "      <td>5</td>\n",
       "      <td>5</td>\n",
       "      <td>5</td>\n",
       "      <td>4</td>\n",
       "      <td>5</td>\n",
       "      <td>205</td>\n",
       "      <td>218</td>\n",
       "      <td>66</td>\n",
       "      <td>142</td>\n",
       "      <td>109</td>\n",
       "      <td>303</td>\n",
       "      <td>145</td>\n",
       "    </tr>\n",
       "    <tr>\n",
       "      <th>172</th>\n",
       "      <td>1577232000000</td>\n",
       "      <td>5</td>\n",
       "      <td>5</td>\n",
       "      <td>5</td>\n",
       "      <td>4</td>\n",
       "      <td>3</td>\n",
       "      <td>4</td>\n",
       "      <td>209</td>\n",
       "      <td>219</td>\n",
       "      <td>66</td>\n",
       "      <td>142</td>\n",
       "      <td>111</td>\n",
       "      <td>305</td>\n",
       "      <td>146</td>\n",
       "    </tr>\n",
       "    <tr>\n",
       "      <th>173</th>\n",
       "      <td>1577318400000</td>\n",
       "      <td>5</td>\n",
       "      <td>5</td>\n",
       "      <td>5</td>\n",
       "      <td>4</td>\n",
       "      <td>3</td>\n",
       "      <td>5</td>\n",
       "      <td>210</td>\n",
       "      <td>224</td>\n",
       "      <td>66</td>\n",
       "      <td>143</td>\n",
       "      <td>112</td>\n",
       "      <td>309</td>\n",
       "      <td>146</td>\n",
       "    </tr>\n",
       "    <tr>\n",
       "      <th>174</th>\n",
       "      <td>1577404800000</td>\n",
       "      <td>5</td>\n",
       "      <td>4</td>\n",
       "      <td>5</td>\n",
       "      <td>4</td>\n",
       "      <td>3</td>\n",
       "      <td>5</td>\n",
       "      <td>213</td>\n",
       "      <td>224</td>\n",
       "      <td>66</td>\n",
       "      <td>146</td>\n",
       "      <td>117</td>\n",
       "      <td>310</td>\n",
       "      <td>146</td>\n",
       "    </tr>\n",
       "    <tr>\n",
       "      <th>175</th>\n",
       "      <td>1577491200000</td>\n",
       "      <td>5</td>\n",
       "      <td>5</td>\n",
       "      <td>5</td>\n",
       "      <td>4</td>\n",
       "      <td>3</td>\n",
       "      <td>5</td>\n",
       "      <td>213</td>\n",
       "      <td>225</td>\n",
       "      <td>64</td>\n",
       "      <td>145</td>\n",
       "      <td>121</td>\n",
       "      <td>312</td>\n",
       "      <td>147</td>\n",
       "    </tr>\n",
       "    <tr>\n",
       "      <th>176</th>\n",
       "      <td>1577577600000</td>\n",
       "      <td>5</td>\n",
       "      <td>5</td>\n",
       "      <td>5</td>\n",
       "      <td>5</td>\n",
       "      <td>3</td>\n",
       "      <td>4</td>\n",
       "      <td>214</td>\n",
       "      <td>224</td>\n",
       "      <td>61</td>\n",
       "      <td>139</td>\n",
       "      <td>119</td>\n",
       "      <td>313</td>\n",
       "      <td>147</td>\n",
       "    </tr>\n",
       "    <tr>\n",
       "      <th>177</th>\n",
       "      <td>1577664000000</td>\n",
       "      <td>5</td>\n",
       "      <td>5</td>\n",
       "      <td>5</td>\n",
       "      <td>4</td>\n",
       "      <td>3</td>\n",
       "      <td>5</td>\n",
       "      <td>209</td>\n",
       "      <td>225</td>\n",
       "      <td>59</td>\n",
       "      <td>133</td>\n",
       "      <td>115</td>\n",
       "      <td>311</td>\n",
       "      <td>147</td>\n",
       "    </tr>\n",
       "    <tr>\n",
       "      <th>178</th>\n",
       "      <td>1577750400000</td>\n",
       "      <td>5</td>\n",
       "      <td>5</td>\n",
       "      <td>5</td>\n",
       "      <td>5</td>\n",
       "      <td>4</td>\n",
       "      <td>5</td>\n",
       "      <td>208</td>\n",
       "      <td>226</td>\n",
       "      <td>59</td>\n",
       "      <td>131</td>\n",
       "      <td>116</td>\n",
       "      <td>313</td>\n",
       "      <td>147</td>\n",
       "    </tr>\n",
       "    <tr>\n",
       "      <th>179</th>\n",
       "      <td>1577836800000</td>\n",
       "      <td>5</td>\n",
       "      <td>5</td>\n",
       "      <td>5</td>\n",
       "      <td>5</td>\n",
       "      <td>4</td>\n",
       "      <td>5</td>\n",
       "      <td>208</td>\n",
       "      <td>232</td>\n",
       "      <td>61</td>\n",
       "      <td>133</td>\n",
       "      <td>120</td>\n",
       "      <td>316</td>\n",
       "      <td>147</td>\n",
       "    </tr>\n",
       "  </tbody>\n",
       "</table>\n",
       "</div>"
      ],
      "text/plain": [
       "         timestamp  Fire_rune  Water_rune  Air_rune  Earth_rune  Mind_rune  \\\n",
       "160  1576195200000          5           4         5           4          3   \n",
       "161  1576281600000          5           5         5           4          3   \n",
       "162  1576368000000          5           5         5           5          3   \n",
       "163  1576454400000          5           5         5           5          4   \n",
       "164  1576540800000          5           5         5           5          4   \n",
       "165  1576627200000          5           5         5           5          4   \n",
       "166  1576713600000          5           5         5           5          3   \n",
       "167  1576800000000          5           5         5           5          3   \n",
       "168  1576886400000          5           5         5           4          3   \n",
       "169  1576972800000          5           5         5           5          3   \n",
       "170  1577059200000          5           5         5           5          3   \n",
       "171  1577145600000          5           5         5           5          4   \n",
       "172  1577232000000          5           5         5           4          3   \n",
       "173  1577318400000          5           5         5           4          3   \n",
       "174  1577404800000          5           4         5           4          3   \n",
       "175  1577491200000          5           5         5           4          3   \n",
       "176  1577577600000          5           5         5           5          3   \n",
       "177  1577664000000          5           5         5           4          3   \n",
       "178  1577750400000          5           5         5           5          4   \n",
       "179  1577836800000          5           5         5           5          4   \n",
       "\n",
       "     Body_rune  Death_rune  Nature_rune  Chaos_rune  Law_rune  Cosmic_rune  \\\n",
       "160          4         201          223          66       166          121   \n",
       "161          4         202          221          66       167          118   \n",
       "162          4         203          219          66       166          115   \n",
       "163          5         204          219          66       166          112   \n",
       "164          5         204          218          66       166          110   \n",
       "165          5         204          216          67       166          113   \n",
       "166          5         203          216          67       166          118   \n",
       "167          4         203          216          67       164          121   \n",
       "168          5         202          216          67       158          119   \n",
       "169          5         203          215          66       152          113   \n",
       "170          5         204          217          66       147          110   \n",
       "171          5         205          218          66       142          109   \n",
       "172          4         209          219          66       142          111   \n",
       "173          5         210          224          66       143          112   \n",
       "174          5         213          224          66       146          117   \n",
       "175          5         213          225          64       145          121   \n",
       "176          4         214          224          61       139          119   \n",
       "177          5         209          225          59       133          115   \n",
       "178          5         208          226          59       131          116   \n",
       "179          5         208          232          61       133          120   \n",
       "\n",
       "     Blood_rune  Soul_rune  \n",
       "160         302        145  \n",
       "161         303        145  \n",
       "162         302        145  \n",
       "163         302        144  \n",
       "164         303        144  \n",
       "165         303        144  \n",
       "166         302        144  \n",
       "167         301        140  \n",
       "168         302        143  \n",
       "169         302        145  \n",
       "170         302        145  \n",
       "171         303        145  \n",
       "172         305        146  \n",
       "173         309        146  \n",
       "174         310        146  \n",
       "175         312        147  \n",
       "176         313        147  \n",
       "177         311        147  \n",
       "178         313        147  \n",
       "179         316        147  "
      ]
     },
     "execution_count": 2,
     "metadata": {},
     "output_type": "execute_result"
    }
   ],
   "source": [
    "rune_data_filename = 'data/Rune_Data.csv'\n",
    "\n",
    "rune_dataframe = pd.read_csv(rune_data_filename)\n",
    "rune_dataframe.tail(20)"
   ]
  },
  {
   "cell_type": "code",
   "execution_count": 3,
   "metadata": {},
   "outputs": [],
   "source": [
    "def univariate_data(dataset, sequence_length):\n",
    "    \n",
    "    \n",
    "    tscv = TimeSeriesSplit(len(dataset)-sequence_length, sequence_length)\n",
    "    \n",
    "    train_data = []\n",
    "    train_labels = []\n",
    "\n",
    "    for train_index, test_index in tscv.split(dataset):\n",
    "        X, Y = dataset[train_index], dataset[test_index]\n",
    "        train_data.append(X)\n",
    "        train_labels.append(Y)\n",
    "\n",
    "    train_data = np.stack(train_data) \n",
    "    train_labels = np.stack(train_labels).squeeze()\n",
    "\n",
    "    return train_data, train_labels"
   ]
  },
  {
   "cell_type": "code",
   "execution_count": 4,
   "metadata": {},
   "outputs": [],
   "source": [
    "target = 'Law_rune'"
   ]
  },
  {
   "cell_type": "code",
   "execution_count": 5,
   "metadata": {},
   "outputs": [],
   "source": [
    "uni_data = rune_dataframe[target]\n",
    "uni_data.index = rune_dataframe['timestamp']"
   ]
  },
  {
   "cell_type": "code",
   "execution_count": 6,
   "metadata": {},
   "outputs": [
    {
     "data": {
      "text/plain": [
       "<matplotlib.axes._subplots.AxesSubplot at 0x7f2e51e9a940>"
      ]
     },
     "execution_count": 6,
     "metadata": {},
     "output_type": "execute_result"
    },
    {
     "data": {
      "image/png": "[encoded data removed]",
      "text/plain": [
       "<Figure size 432x288 with 1 Axes>"
      ]
     },
     "metadata": {
      "needs_background": "light"
     },
     "output_type": "display_data"
    }
   ],
   "source": [
    "uni_data.plot()"
   ]
  },
  {
   "cell_type": "code",
   "execution_count": 7,
   "metadata": {},
   "outputs": [
    {
     "data": {
      "text/plain": [
       "(180,)"
      ]
     },
     "execution_count": 7,
     "metadata": {},
     "output_type": "execute_result"
    }
   ],
   "source": [
    "uni_data = uni_data.values\n",
    "uni_data.shape"
   ]
  },
  {
   "cell_type": "code",
   "execution_count": 8,
   "metadata": {},
   "outputs": [
    {
     "data": {
      "text/plain": [
       "(180, 1)"
      ]
     },
     "execution_count": 8,
     "metadata": {},
     "output_type": "execute_result"
    }
   ],
   "source": [
    "# normalize data\n",
    "scaler = MinMaxScaler(feature_range=(-1,1))\n",
    "\n",
    "uni_data = scaler.fit_transform(uni_data.reshape(-1,1))\n",
    "uni_data.shape"
   ]
  },
  {
   "cell_type": "code",
   "execution_count": 9,
   "metadata": {},
   "outputs": [
    {
     "data": {
      "text/plain": [
       "array([[0.76811594],\n",
       "       [0.76811594],\n",
       "       [0.71014493],\n",
       "       [0.65217391],\n",
       "       [0.62318841],\n",
       "       [0.65217391],\n",
       "       [0.71014493],\n",
       "       [0.68115942],\n",
       "       [0.68115942],\n",
       "       [0.65217391],\n",
       "       [0.65217391]])"
      ]
     },
     "execution_count": 9,
     "metadata": {},
     "output_type": "execute_result"
    }
   ],
   "source": [
    "uni_data[:11]"
   ]
  },
  {
   "cell_type": "code",
   "execution_count": 10,
   "metadata": {},
   "outputs": [
    {
     "name": "stdout",
     "output_type": "stream",
     "text": [
      "(170, 10, 1)\n",
      "(170,)\n"
     ]
    }
   ],
   "source": [
    "history = 10\n",
    "x_train_uni, y_train_uni = univariate_data(uni_data, history)\n",
    "y_train_uni\n",
    "print(x_train_uni.shape)\n",
    "print(y_train_uni.shape)"
   ]
  },
  {
   "cell_type": "code",
   "execution_count": 11,
   "metadata": {},
   "outputs": [],
   "source": [
    "x_train_uni = torch.Tensor(x_train_uni)\n",
    "y_train_uni = torch.Tensor(y_train_uni)\n",
    "\n",
    "# create Dataset\n",
    "dataset = TensorDataset(x_train_uni, y_train_uni)\n",
    "dataloader = DataLoader(dataset, shuffle=False)\n",
    "\n",
    "\n",
    "# for num_iter, (seq, label) in enumerate(dataloader):\n",
    "#     print(num_iter)\n",
    "#     print(seq.shape)\n",
    "#     print(label.shape)"
   ]
  },
  {
   "cell_type": "code",
   "execution_count": 12,
   "metadata": {},
   "outputs": [],
   "source": [
    "device = torch.device('cuda' if torch.cuda.is_available() else 'cpu')"
   ]
  },
  {
   "cell_type": "code",
   "execution_count": 13,
   "metadata": {},
   "outputs": [],
   "source": [
    "class RnnModel(nn.Module):\n",
    "    def __init__(self, input_size, output_size, hidden_dim):\n",
    "        super().__init__()\n",
    "        \n",
    "        # define some parameters\n",
    "        self.hidden_dim = hidden_dim\n",
    "\n",
    "        # define layers\n",
    "        # RNN layers\n",
    "        self.lstm = nn.LSTM(input_size, \n",
    "                            hidden_dim)\n",
    "        #FC layers\n",
    "        self.fc = nn.Linear(hidden_dim, \n",
    "                            output_size)\n",
    "    \n",
    "    def forward(self, x):\n",
    "        x = x.to(device)\n",
    "        # set initial hidden and cell states\n",
    "        h0 = torch.zeros(1,1,self.hidden_dim).to(device)\n",
    "        c0 = torch.zeros(1,1,self.hidden_dim).to(device)\n",
    "        # forward propagate \n",
    "#         print(h0.size())\n",
    "#         print(c0.size())\n",
    "#         print(x.size())\n",
    "#         print(x.view(len(x),1,-1).size())\n",
    "        out, _ = self.lstm(x.view(len(x),1,-1), (h0, c0))\n",
    "        \n",
    "        # decode hidden of last time step\n",
    "        \n",
    "        out = self.fc(out.view(len(x), -1))\n",
    "        \n",
    "        \n",
    "        return out[-1]\n"
   ]
  },
  {
   "cell_type": "code",
   "execution_count": 14,
   "metadata": {},
   "outputs": [],
   "source": [
    "uni_model = RnnModel(input_size=1, output_size=1, hidden_dim=100)"
   ]
  },
  {
   "cell_type": "code",
   "execution_count": 15,
   "metadata": {},
   "outputs": [],
   "source": [
    "# hyperparameters\n",
    "n_epochs = 200\n",
    "lr = .02\n",
    "\n",
    "# define loss and optimizer \n",
    "criterion = nn.MSELoss()\n",
    "optimizer = torch.optim.Adam(uni_model.parameters(), lr=lr)"
   ]
  },
  {
   "cell_type": "code",
   "execution_count": 16,
   "metadata": {},
   "outputs": [
    {
     "data": {
      "text/plain": [
       "RnnModel(\n",
       "  (lstm): LSTM(1, 100)\n",
       "  (fc): Linear(in_features=100, out_features=1, bias=True)\n",
       ")"
      ]
     },
     "execution_count": 16,
     "metadata": {},
     "output_type": "execute_result"
    }
   ],
   "source": [
    "uni_model.to(device)"
   ]
  },
  {
   "cell_type": "code",
   "execution_count": 17,
   "metadata": {},
   "outputs": [
    {
     "name": "stdout",
     "output_type": "stream",
     "text": [
      "Epoch: 0/200.........\n",
      "Loss: 0.04473068192601204\n",
      "Epoch: 10/200.........\n",
      "Loss: 0.0035766279324889183\n",
      "Epoch: 20/200.........\n",
      "Loss: 0.0038635414093732834\n",
      "Epoch: 30/200.........\n",
      "Loss: 0.004974421579390764\n",
      "Epoch: 40/200.........\n",
      "Loss: 0.0016391337849199772\n",
      "Epoch: 50/200.........\n",
      "Loss: 0.002137385308742523\n",
      "Epoch: 60/200.........\n",
      "Loss: 0.0020582082215696573\n",
      "Epoch: 70/200.........\n",
      "Loss: 0.0015109400264918804\n",
      "Epoch: 80/200.........\n",
      "Loss: 7.782705506542698e-05\n",
      "Epoch: 90/200.........\n",
      "Loss: 4.903708031633869e-06\n",
      "Epoch: 100/200.........\n",
      "Loss: 0.00017571872740518302\n",
      "Epoch: 110/200.........\n",
      "Loss: 0.000257777952356264\n",
      "Epoch: 120/200.........\n",
      "Loss: 0.003981893416494131\n",
      "Epoch: 130/200.........\n",
      "Loss: 0.0003313087217975408\n",
      "Epoch: 140/200.........\n",
      "Loss: 0.00017605547327548265\n",
      "Epoch: 150/200.........\n",
      "Loss: 0.005075300112366676\n",
      "Epoch: 160/200.........\n",
      "Loss: 0.00043229764560237527\n",
      "Epoch: 170/200.........\n",
      "Loss: 0.002804525662213564\n",
      "Epoch: 180/200.........\n",
      "Loss: 0.0005515202647075057\n",
      "Epoch: 190/200.........\n",
      "Loss: 0.0005622890894301236\n"
     ]
    }
   ],
   "source": [
    "uni_model.train()\n",
    "for epoch in range(n_epochs):\n",
    "    for num_iter, (seq, label) in enumerate(dataloader):\n",
    "        seq = seq.to(device)\n",
    "        label = label.to(device)\n",
    "        seq = seq.reshape(10,1)\n",
    "\n",
    "        \n",
    "        \n",
    "        optimizer.zero_grad()\n",
    "        \n",
    "        \n",
    "        output = uni_model(seq)\n",
    "        \n",
    "        loss = criterion(output, label)\n",
    "        loss.backward()\n",
    "        optimizer.step()\n",
    "\n",
    "    if epoch%10 == 0:\n",
    "        print(f'Epoch: {epoch}/{n_epochs}.........')\n",
    "        print(f'Loss: {loss.item()}')"
   ]
  },
  {
   "cell_type": "code",
   "execution_count": 18,
   "metadata": {},
   "outputs": [
    {
     "name": "stdout",
     "output_type": "stream",
     "text": [
      "[-0.5362318840579707, -0.6811594202898554, -0.6811594202898554, -0.6521739130434785, -0.5652173913043477, -0.5942028985507246, -0.7681159420289854, -0.9420289855072461, -1.0, -0.9420289855072461]\n"
     ]
    }
   ],
   "source": [
    "fut_pred = 10\n",
    "\n",
    "uni_test_inputs = uni_data[-history:].squeeze(1).tolist()\n",
    "print(uni_test_inputs)"
   ]
  },
  {
   "cell_type": "code",
   "execution_count": 19,
   "metadata": {},
   "outputs": [
    {
     "name": "stdout",
     "output_type": "stream",
     "text": [
      "0\n",
      "1\n",
      "2\n",
      "3\n",
      "4\n",
      "5\n",
      "6\n",
      "7\n",
      "8\n",
      "9\n",
      "[-1.0009346008300781, -1.0009346008300781, -1.0009346008300781, -1.0009346008300781, -1.0009346008300781, -1.0009346008300781, -1.0009346008300781, -1.0009346008300781, -1.0009346008300781, -1.0009346008300781]\n"
     ]
    }
   ],
   "source": [
    "uni_model.eval()\n",
    "\n",
    "uni_test_outputs = []\n",
    "for i in range(history):\n",
    "    print(len(uni_test_outputs))\n",
    "    seq = torch.FloatTensor(uni_test_inputs[-history:])\n",
    "    with torch.no_grad():\n",
    "        uni_test_outputs.append(uni_model(seq).item())\n",
    "        \n",
    "print(uni_test_outputs)        "
   ]
  },
  {
   "cell_type": "code",
   "execution_count": 20,
   "metadata": {},
   "outputs": [],
   "source": [
    "x = np.arange(170,180,1) "
   ]
  },
  {
   "cell_type": "code",
   "execution_count": null,
   "metadata": {},
   "outputs": [],
   "source": []
  },
  {
   "cell_type": "code",
   "execution_count": 21,
   "metadata": {},
   "outputs": [
    {
     "data": {
      "image/png": "[encoded data removed]",
      "text/plain": [
       "<Figure size 432x288 with 1 Axes>"
      ]
     },
     "metadata": {
      "needs_background": "light"
     },
     "output_type": "display_data"
    }
   ],
   "source": [
    "plt.title(\"Time v Price\")\n",
    "plt.ylabel('Price')\n",
    "plt.grid(True)\n",
    "plt.autoscale(axis='x', tight=True)\n",
    "plt.plot(uni_data)\n",
    "plt.plot(x, uni_test_outputs)\n",
    "plt.show()"
   ]
  },
  {
   "cell_type": "code",
   "execution_count": 22,
   "metadata": {},
   "outputs": [
    {
     "data": {
      "image/png": "[encoded data removed]",
      "text/plain": [
       "<Figure size 432x288 with 1 Axes>"
      ]
     },
     "metadata": {
      "needs_background": "light"
     },
     "output_type": "display_data"
    }
   ],
   "source": [
    "plt.title('Time v Price')\n",
    "plt.ylabel('Price')\n",
    "plt.grid(True)\n",
    "plt.autoscale(axis='x', tight=True)\n",
    "\n",
    "plt.plot(x,uni_data[-history:])\n",
    "plt.plot(x,uni_test_outputs)\n",
    "plt.show()"
   ]
  },
  {
   "cell_type": "markdown",
   "metadata": {},
   "source": [
    "Multivariate Data Time-Series Analysis"
   ]
  },
  {
   "cell_type": "code",
   "execution_count": 23,
   "metadata": {},
   "outputs": [],
   "source": [
    "multi_data = rune_dataframe.iloc[:, 7:]\n",
    "multi_data.index = rune_dataframe['timestamp']"
   ]
  },
  {
   "cell_type": "code",
   "execution_count": 24,
   "metadata": {},
   "outputs": [
    {
     "data": {
      "text/plain": [
       "<matplotlib.axes._subplots.AxesSubplot at 0x7f2e4a17c128>"
      ]
     },
     "execution_count": 24,
     "metadata": {},
     "output_type": "execute_result"
    },
    {
     "data": {
      "image/png": "[encoded data removed]",
      "text/plain": [
       "<Figure size 432x288 with 1 Axes>"
      ]
     },
     "metadata": {
      "needs_background": "light"
     },
     "output_type": "display_data"
    }
   ],
   "source": [
    "multi_data.plot()"
   ]
  },
  {
   "cell_type": "code",
   "execution_count": null,
   "metadata": {},
   "outputs": [],
   "source": []
  },
  {
   "cell_type": "code",
   "execution_count": 25,
   "metadata": {},
   "outputs": [
    {
     "data": {
      "text/plain": [
       "(180, 7)"
      ]
     },
     "execution_count": 25,
     "metadata": {},
     "output_type": "execute_result"
    }
   ],
   "source": [
    "# normalize data\n",
    "scaler = MinMaxScaler((-1,1))\n",
    "\n",
    "multi_data_scaled = scaler.fit_transform(multi_data)\n",
    "multi_data_scaled.shape"
   ]
  },
  {
   "cell_type": "code",
   "execution_count": 26,
   "metadata": {},
   "outputs": [
    {
     "data": {
      "text/plain": [
       "[<matplotlib.lines.Line2D at 0x7f2e485a80b8>,\n",
       " <matplotlib.lines.Line2D at 0x7f2e485a8208>,\n",
       " <matplotlib.lines.Line2D at 0x7f2e485a8358>,\n",
       " <matplotlib.lines.Line2D at 0x7f2e485a84a8>,\n",
       " <matplotlib.lines.Line2D at 0x7f2e485a85f8>,\n",
       " <matplotlib.lines.Line2D at 0x7f2e485a8748>,\n",
       " <matplotlib.lines.Line2D at 0x7f2e485a8898>]"
      ]
     },
     "execution_count": 26,
     "metadata": {},
     "output_type": "execute_result"
    },
    {
     "data": {
      "image/png": "[encoded data removed]",
      "text/plain": [
       "<Figure size 432x288 with 1 Axes>"
      ]
     },
     "metadata": {
      "needs_background": "light"
     },
     "output_type": "display_data"
    }
   ],
   "source": [
    "plt.plot(multi_data_scaled)"
   ]
  },
  {
   "cell_type": "code",
   "execution_count": 27,
   "metadata": {},
   "outputs": [],
   "source": [
    "def multivariate_data(dataset, sequence_length, target):\n",
    "    \n",
    "    \n",
    "    tscv = TimeSeriesSplit(len(dataset)-sequence_length, sequence_length)\n",
    "    \n",
    "    train_data = []\n",
    "    train_labels = []\n",
    "\n",
    "    for train_index, test_index in tscv.split(dataset):\n",
    "        X, Y = dataset[train_index], dataset[test_index][0][target]\n",
    "        train_data.append(X)\n",
    "        train_labels.append(Y)\n",
    "\n",
    "    train_data = np.stack(train_data) \n",
    "    train_labels = np.stack(train_labels).squeeze()\n",
    "\n",
    "    return train_data, train_labels"
   ]
  },
  {
   "cell_type": "code",
   "execution_count": 28,
   "metadata": {},
   "outputs": [
    {
     "name": "stdout",
     "output_type": "stream",
     "text": [
      "3\n",
      "(170, 10, 7)\n",
      "(170,)\n",
      "target: Law_rune\n"
     ]
    }
   ],
   "source": [
    "history = 10\n",
    "target_iloc = multi_data.columns.get_loc(target)\n",
    "print(target_iloc)\n",
    "x_train_multi, y_train_multi = multivariate_data(multi_data_scaled, history, target_iloc)\n",
    "y_train_multi\n",
    "print(x_train_multi.shape)\n",
    "print(y_train_multi.shape)\n",
    "print(f'target: {target}')"
   ]
  },
  {
   "cell_type": "code",
   "execution_count": 29,
   "metadata": {},
   "outputs": [],
   "source": [
    "multi_model = RnnModel(input_size=7, output_size=1, hidden_dim=100)"
   ]
  },
  {
   "cell_type": "code",
   "execution_count": 30,
   "metadata": {},
   "outputs": [],
   "source": [
    "x_train_multi = torch.Tensor(x_train_multi)\n",
    "y_train_multi = torch.Tensor(y_train_multi)\n",
    "\n",
    "# create Dataset\n",
    "dataset = TensorDataset(x_train_multi, y_train_multi)\n",
    "dataloader = DataLoader(dataset, shuffle=False)"
   ]
  },
  {
   "cell_type": "code",
   "execution_count": 31,
   "metadata": {},
   "outputs": [],
   "source": [
    "# hyperparameters\n",
    "n_epochs = 200\n",
    "lr = .02\n",
    "\n",
    "# define loss and optimizer \n",
    "criterion = nn.MSELoss()\n",
    "optimizer = torch.optim.Adam(multi_model.parameters(), lr=lr)"
   ]
  },
  {
   "cell_type": "code",
   "execution_count": 32,
   "metadata": {},
   "outputs": [
    {
     "data": {
      "text/plain": [
       "RnnModel(\n",
       "  (lstm): LSTM(7, 100)\n",
       "  (fc): Linear(in_features=100, out_features=1, bias=True)\n",
       ")"
      ]
     },
     "execution_count": 32,
     "metadata": {},
     "output_type": "execute_result"
    }
   ],
   "source": [
    "multi_model.to(device)"
   ]
  },
  {
   "cell_type": "code",
   "execution_count": null,
   "metadata": {},
   "outputs": [
    {
     "name": "stdout",
     "output_type": "stream",
     "text": [
      "Epoch: 0/200.........\n",
      "Loss: 0.03237663954496384\n",
      "Epoch: 10/200.........\n",
      "Loss: 0.012014683336019516\n",
      "Epoch: 20/200.........\n",
      "Loss: 0.0019806260243058205\n",
      "Epoch: 30/200.........\n",
      "Loss: 0.01261692214757204\n",
      "Epoch: 40/200.........\n",
      "Loss: 0.008122563362121582\n",
      "Epoch: 50/200.........\n",
      "Loss: 0.035995546728372574\n",
      "Epoch: 60/200.........\n",
      "Loss: 0.001957082422450185\n",
      "Epoch: 70/200.........\n",
      "Loss: 0.0001445131638320163\n",
      "Epoch: 80/200.........\n",
      "Loss: 0.0014286382356658578\n",
      "Epoch: 90/200.........\n",
      "Loss: 0.001238687545992434\n",
      "Epoch: 100/200.........\n",
      "Loss: 1.9061786588281393e-05\n"
     ]
    }
   ],
   "source": [
    "multi_model.train()\n",
    "for epoch in range(n_epochs):\n",
    "    for num_iter, (seq, label) in enumerate(dataloader):\n",
    "        seq = seq.to(device)\n",
    "        label = label.to(device)\n",
    "        seq = seq.reshape(10,7)\n",
    "\n",
    "        \n",
    "        \n",
    "        optimizer.zero_grad()\n",
    "        \n",
    "        \n",
    "        output = multi_model(seq)\n",
    "        \n",
    "        loss = criterion(output, label)\n",
    "        loss.backward()\n",
    "        optimizer.step()\n",
    "\n",
    "    if epoch%10 == 0:\n",
    "        print(f'Epoch: {epoch}/{n_epochs}.........')\n",
    "        print(f'Loss: {loss.item()}')"
   ]
  },
  {
   "cell_type": "code",
   "execution_count": null,
   "metadata": {},
   "outputs": [],
   "source": [
    "fut_pred = 10\n",
    "\n",
    "multi_test_inputs = multi_data_scaled[-history:]\n",
    "\n",
    "print(multi_test_inputs.shape)"
   ]
  },
  {
   "cell_type": "code",
   "execution_count": null,
   "metadata": {},
   "outputs": [],
   "source": [
    "multi_model.eval()\n",
    "\n",
    "multi_test_outputs = []\n",
    "for i in range(history):\n",
    "    print(len(multi_test_outputs))\n",
    "    seq = torch.FloatTensor(multi_test_inputs[-i:])\n",
    "    with torch.no_grad():\n",
    "        multi_test_outputs.append(multi_model(seq).item())\n",
    "\n",
    "print(multi_test_outputs)    "
   ]
  },
  {
   "cell_type": "code",
   "execution_count": null,
   "metadata": {},
   "outputs": [],
   "source": [
    "x = np.arange(170,180,1) "
   ]
  },
  {
   "cell_type": "code",
   "execution_count": null,
   "metadata": {},
   "outputs": [],
   "source": [
    "plt.title(\"Time v Price\")\n",
    "plt.ylabel('Price')\n",
    "plt.grid(True)\n",
    "plt.autoscale(axis='x', tight=True)\n",
    "print(multi_data.shape)\n",
    "plt.plot(multi_data_scaled[:,target_iloc])\n",
    "plt.plot(x, multi_test_outputs)\n",
    "plt.show()"
   ]
  },
  {
   "cell_type": "code",
   "execution_count": null,
   "metadata": {},
   "outputs": [],
   "source": [
    "plt.title('Time v Price')\n",
    "plt.ylabel('Price')\n",
    "plt.grid(True)\n",
    "plt.autoscale(axis='x', tight=True)\n",
    "\n",
    "plt.plot(x,multi_data_scaled[-history:,target_iloc])\n",
    "plt.plot(x,multi_test_outputs)\n",
    "plt.show()"
   ]
  },
  {
   "cell_type": "markdown",
   "metadata": {},
   "source": [
    "Univariate v Multivariate Predictions"
   ]
  },
  {
   "cell_type": "code",
   "execution_count": null,
   "metadata": {},
   "outputs": [],
   "source": [
    "plt.title(f\"Time v Price, Target = {target}\")\n",
    "plt.ylabel('Price')\n",
    "plt.grid(True)\n",
    "plt.autoscale(axis='x', tight=True)\n",
    "plt.plot(multi_data_scaled[:,target_iloc])\n",
    "\n",
    "plt.plot(x, uni_test_outputs, label='Univariate Predictions')\n",
    "plt.plot(x, multi_test_outputs, label='Multivariate Predictions')\n",
    "plt.legend()\n",
    "plt.show()"
   ]
  },
  {
   "cell_type": "code",
   "execution_count": null,
   "metadata": {},
   "outputs": [],
   "source": [
    "plt.title(f'Time v Price, Target = {target}')\n",
    "plt.ylabel('Price')\n",
    "plt.grid(True)\n",
    "plt.autoscale(axis='x', tight=True)\n",
    "\n",
    "plt.plot(x,multi_data_scaled[-history:,target_iloc])\n",
    "plt.plot(x,uni_test_outputs, label='Univariate Predictions')\n",
    "plt.plot(x,multi_test_outputs, label='Multivariate Predictions')\n",
    "plt.legend()\n",
    "plt.show()"
   ]
  },
  {
   "cell_type": "code",
   "execution_count": null,
   "metadata": {},
   "outputs": [],
   "source": []
  }
 ],
 "metadata": {
  "kernelspec": {
   "display_name": "Python 3",
   "language": "python",
   "name": "python3"
  },
  "language_info": {
   "codemirror_mode": {
    "name": "ipython",
    "version": 3
   },
   "file_extension": ".py",
   "mimetype": "text/x-python",
   "name": "python",
   "nbconvert_exporter": "python",
   "pygments_lexer": "ipython3",
   "version": "3.7.3"
  }
 },
 "nbformat": 4,
 "nbformat_minor": 2
}
