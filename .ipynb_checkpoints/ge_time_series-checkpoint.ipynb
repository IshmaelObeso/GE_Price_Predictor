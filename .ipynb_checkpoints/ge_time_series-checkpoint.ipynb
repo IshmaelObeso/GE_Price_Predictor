{
 "cells": [
  {
   "cell_type": "code",
   "execution_count": 1,
   "metadata": {},
   "outputs": [],
   "source": [
    "# import \n",
    "import pandas as pd\n",
    "import numpy as np\n",
    "import matplotlib.pyplot as plt\n",
    "\n",
    "import torch\n",
    "import torch.nn as nn\n",
    "from sklearn.preprocessing import MinMaxScaler\n"
   ]
  },
  {
   "cell_type": "code",
   "execution_count": 2,
   "metadata": {},
   "outputs": [
    {
     "data": {
      "text/html": [
       "<div>\n",
       "<style scoped>\n",
       "    .dataframe tbody tr th:only-of-type {\n",
       "        vertical-align: middle;\n",
       "    }\n",
       "\n",
       "    .dataframe tbody tr th {\n",
       "        vertical-align: top;\n",
       "    }\n",
       "\n",
       "    .dataframe thead th {\n",
       "        text-align: right;\n",
       "    }\n",
       "</style>\n",
       "<table border=\"1\" class=\"dataframe\">\n",
       "  <thead>\n",
       "    <tr style=\"text-align: right;\">\n",
       "      <th></th>\n",
       "      <th>timestamp</th>\n",
       "      <th>Fire_rune</th>\n",
       "      <th>Water_rune</th>\n",
       "      <th>Air_rune</th>\n",
       "      <th>Earth_rune</th>\n",
       "      <th>Mind_rune</th>\n",
       "      <th>Body_rune</th>\n",
       "      <th>Death_rune</th>\n",
       "      <th>Nature_rune</th>\n",
       "      <th>Chaos_rune</th>\n",
       "      <th>Law_rune</th>\n",
       "      <th>Cosmic_rune</th>\n",
       "      <th>Blood_rune</th>\n",
       "      <th>Soul_rune</th>\n",
       "    </tr>\n",
       "  </thead>\n",
       "  <tbody>\n",
       "    <tr>\n",
       "      <td>0</td>\n",
       "      <td>1562371200000</td>\n",
       "      <td>5</td>\n",
       "      <td>5</td>\n",
       "      <td>5</td>\n",
       "      <td>5</td>\n",
       "      <td>4</td>\n",
       "      <td>4</td>\n",
       "      <td>209</td>\n",
       "      <td>204</td>\n",
       "      <td>93</td>\n",
       "      <td>192</td>\n",
       "      <td>115</td>\n",
       "      <td>368</td>\n",
       "      <td>147</td>\n",
       "    </tr>\n",
       "    <tr>\n",
       "      <td>1</td>\n",
       "      <td>1562457600000</td>\n",
       "      <td>5</td>\n",
       "      <td>5</td>\n",
       "      <td>5</td>\n",
       "      <td>4</td>\n",
       "      <td>4</td>\n",
       "      <td>4</td>\n",
       "      <td>208</td>\n",
       "      <td>202</td>\n",
       "      <td>93</td>\n",
       "      <td>192</td>\n",
       "      <td>112</td>\n",
       "      <td>376</td>\n",
       "      <td>147</td>\n",
       "    </tr>\n",
       "    <tr>\n",
       "      <td>2</td>\n",
       "      <td>1562544000000</td>\n",
       "      <td>5</td>\n",
       "      <td>5</td>\n",
       "      <td>5</td>\n",
       "      <td>5</td>\n",
       "      <td>4</td>\n",
       "      <td>4</td>\n",
       "      <td>208</td>\n",
       "      <td>202</td>\n",
       "      <td>92</td>\n",
       "      <td>190</td>\n",
       "      <td>114</td>\n",
       "      <td>371</td>\n",
       "      <td>147</td>\n",
       "    </tr>\n",
       "    <tr>\n",
       "      <td>3</td>\n",
       "      <td>1562630400000</td>\n",
       "      <td>5</td>\n",
       "      <td>5</td>\n",
       "      <td>5</td>\n",
       "      <td>5</td>\n",
       "      <td>4</td>\n",
       "      <td>4</td>\n",
       "      <td>208</td>\n",
       "      <td>203</td>\n",
       "      <td>92</td>\n",
       "      <td>188</td>\n",
       "      <td>112</td>\n",
       "      <td>368</td>\n",
       "      <td>147</td>\n",
       "    </tr>\n",
       "    <tr>\n",
       "      <td>4</td>\n",
       "      <td>1562716800000</td>\n",
       "      <td>5</td>\n",
       "      <td>4</td>\n",
       "      <td>5</td>\n",
       "      <td>5</td>\n",
       "      <td>4</td>\n",
       "      <td>4</td>\n",
       "      <td>208</td>\n",
       "      <td>205</td>\n",
       "      <td>92</td>\n",
       "      <td>187</td>\n",
       "      <td>114</td>\n",
       "      <td>368</td>\n",
       "      <td>148</td>\n",
       "    </tr>\n",
       "  </tbody>\n",
       "</table>\n",
       "</div>"
      ],
      "text/plain": [
       "       timestamp  Fire_rune  Water_rune  Air_rune  Earth_rune  Mind_rune  \\\n",
       "0  1562371200000          5           5         5           5          4   \n",
       "1  1562457600000          5           5         5           4          4   \n",
       "2  1562544000000          5           5         5           5          4   \n",
       "3  1562630400000          5           5         5           5          4   \n",
       "4  1562716800000          5           4         5           5          4   \n",
       "\n",
       "   Body_rune  Death_rune  Nature_rune  Chaos_rune  Law_rune  Cosmic_rune  \\\n",
       "0          4         209          204          93       192          115   \n",
       "1          4         208          202          93       192          112   \n",
       "2          4         208          202          92       190          114   \n",
       "3          4         208          203          92       188          112   \n",
       "4          4         208          205          92       187          114   \n",
       "\n",
       "   Blood_rune  Soul_rune  \n",
       "0         368        147  \n",
       "1         376        147  \n",
       "2         371        147  \n",
       "3         368        147  \n",
       "4         368        148  "
      ]
     },
     "execution_count": 2,
     "metadata": {},
     "output_type": "execute_result"
    }
   ],
   "source": [
    "rune_data_filename = 'data/Rune_Data.csv'\n",
    "\n",
    "rune_dataframe = pd.read_csv(rune_data_filename)\n",
    "rune_dataframe.head()"
   ]
  },
  {
   "cell_type": "code",
   "execution_count": 3,
   "metadata": {},
   "outputs": [],
   "source": [
    "# def univariate_data(dataset, start_index, end_index, history_size, target_size):\n",
    "#     data = []\n",
    "#     labels = []\n",
    "    \n",
    "#     start_index = start_index + history_size\n",
    "#     if end_index is None:\n",
    "#         end_index = len(dataset) - target_size\n",
    "    \n",
    "#     for i in range(start_index, end_index):\n",
    "#         indices = range(i-history_size, i)\n",
    "#         # reshape data from (history_size) to (history_size, 1)\n",
    "        \n",
    "#         data.append(np.reshape(dataset[indices], (history_size, 1)))\n",
    "#         labels.append(dataset[i+target_size])\n",
    "#     return np.array(data), np.array(labels)"
   ]
  },
  {
   "cell_type": "code",
   "execution_count": 4,
   "metadata": {},
   "outputs": [],
   "source": [
    "def univariate_data(dataset, history_size):\n",
    "    inout_seq = []\n",
    "    L = len(dataset)\n",
    "    for i in range(L - history_size):\n",
    "        train_seq = dataset[i:i+history_size]\n",
    "        train_label = dataset[i+history_size:i+history_size+1]\n",
    "        inout_seq.append((train_seq, train_label))\n",
    "        \n",
    "    return inout_seq"
   ]
  },
  {
   "cell_type": "code",
   "execution_count": 5,
   "metadata": {},
   "outputs": [],
   "source": [
    "train_split = 120"
   ]
  },
  {
   "cell_type": "code",
   "execution_count": 32,
   "metadata": {
    "collapsed": true
   },
   "outputs": [
    {
     "data": {
      "text/plain": [
       "timestamp\n",
       "1562371200000    147\n",
       "1562457600000    147\n",
       "1562544000000    147\n",
       "1562630400000    147\n",
       "1562716800000    148\n",
       "Name: Soul_rune, dtype: int64"
      ]
     },
     "execution_count": 32,
     "metadata": {},
     "output_type": "execute_result"
    }
   ],
   "source": [
    "uni_data = rune_dataframe['Soul_rune']\n",
    "uni_data.index = rune_dataframe['timestamp']\n",
    "\n",
    "uni_data.head()"
   ]
  },
  {
   "cell_type": "code",
   "execution_count": 33,
   "metadata": {},
   "outputs": [
    {
     "data": {
      "text/plain": [
       "<matplotlib.axes._subplots.AxesSubplot at 0x7f02e1ffe240>"
      ]
     },
     "execution_count": 33,
     "metadata": {},
     "output_type": "execute_result"
    },
    {
     "data": {
      "image/png": "[encoded data removed]",
      "text/plain": [
       "<Figure size 432x288 with 1 Axes>"
      ]
     },
     "metadata": {
      "needs_background": "light"
     },
     "output_type": "display_data"
    }
   ],
   "source": [
    "uni_data.plot()"
   ]
  },
  {
   "cell_type": "code",
   "execution_count": 8,
   "metadata": {},
   "outputs": [],
   "source": [
    "uni_data = uni_data.values"
   ]
  },
  {
   "cell_type": "code",
   "execution_count": 9,
   "metadata": {},
   "outputs": [],
   "source": [
    "uni_train_mean = uni_data[:train_split].mean()\n",
    "uni_train_std = uni_data[:train_split].std()"
   ]
  },
  {
   "cell_type": "code",
   "execution_count": 10,
   "metadata": {},
   "outputs": [],
   "source": [
    "# normalize data\n",
    "scaler = MinMaxScaler(feature_range=(-1,1))\n",
    "\n",
    "uni_data = scaler.fit_transform(uni_data.reshape(-1,1))\n",
    "uni_data = torch.FloatTensor(uni_data)"
   ]
  },
  {
   "cell_type": "code",
   "execution_count": 11,
   "metadata": {},
   "outputs": [],
   "source": [
    "uni_past_history = 10\n",
    "uni_future_target = 0"
   ]
  },
  {
   "cell_type": "code",
   "execution_count": 12,
   "metadata": {},
   "outputs": [],
   "source": [
    "# x_train_uni , y_train_uni = univariate_data(uni_data, \n",
    "#                                             0, \n",
    "#                                             train_split, \n",
    "#                                             uni_past_history, \n",
    "#                                             uni_future_target)\n",
    "# x_val_uni, y_val_uni = univariate_data(uni_data, \n",
    "#                                        train_split, \n",
    "#                                        None, \n",
    "#                                        uni_past_history, \n",
    "#                                        uni_future_target)\n",
    "\n",
    "train_inout_seq = univariate_data(uni_data, uni_past_history)"
   ]
  },
  {
   "cell_type": "code",
   "execution_count": 13,
   "metadata": {},
   "outputs": [],
   "source": [
    "# print(x_train_uni.shape)\n",
    "# print(y_train_uni.shape)\n",
    "# print(x_train_uni[0])"
   ]
  },
  {
   "cell_type": "code",
   "execution_count": 14,
   "metadata": {},
   "outputs": [
    {
     "name": "stdout",
     "output_type": "stream",
     "text": [
      "170\n"
     ]
    }
   ],
   "source": [
    "print(len(train_inout_seq))"
   ]
  },
  {
   "cell_type": "code",
   "execution_count": 15,
   "metadata": {},
   "outputs": [],
   "source": [
    "# print('Single window of past history')\n",
    "# print(x_train_uni[0].shape)\n",
    "# print('\\n Target to predict')\n",
    "# print(y_train_uni[0])"
   ]
  },
  {
   "cell_type": "code",
   "execution_count": 16,
   "metadata": {},
   "outputs": [],
   "source": [
    "device = torch.device('cuda' if torch.cuda.is_available() else 'cpu')\n",
    "# device = 'cpu'"
   ]
  },
  {
   "cell_type": "code",
   "execution_count": 17,
   "metadata": {},
   "outputs": [],
   "source": [
    "class RnnModel(nn.Module):\n",
    "    def __init__(self, input_size, output_size, hidden_dim):\n",
    "        super().__init__()\n",
    "        \n",
    "        # define some parameters\n",
    "        self.hidden_dim = hidden_dim\n",
    "\n",
    "        # define layers\n",
    "        # RNN layers\n",
    "        self.lstm = nn.LSTM(input_size, hidden_dim)\n",
    "        #FC layers\n",
    "        self.fc = nn.Linear(hidden_dim, output_size)\n",
    "    \n",
    "    def forward(self, x):\n",
    "        x = x.to(device)\n",
    "        # set initial hidden and cell states\n",
    "        h0 = torch.zeros(1,1,self.hidden_dim).to(device)\n",
    "        c0 = torch.zeros(1,1,self.hidden_dim).to(device)\n",
    "        # forward propagate \n",
    "#         print(h0.size())\n",
    "#         print(c0.size())\n",
    "#         print(x.size())\n",
    "#         print(x.view(len(x),1,-1).size())\n",
    "        out, _ = self.lstm(x.view(len(x),1,-1), (h0, c0))\n",
    "        \n",
    "        # decode hidden of last time step\n",
    "        \n",
    "        out = self.fc(out.view(len(x), -1))\n",
    "        \n",
    "        \n",
    "        return out[-1]\n"
   ]
  },
  {
   "cell_type": "code",
   "execution_count": 18,
   "metadata": {},
   "outputs": [],
   "source": [
    "# input_seq = torch.from_numpy(x_train_uni)\n",
    "# target_seq = torch.Tensor(y_train_uni)\n",
    "\n",
    "# input_seq.size()"
   ]
  },
  {
   "cell_type": "code",
   "execution_count": 19,
   "metadata": {},
   "outputs": [],
   "source": [
    "model = RnnModel(input_size=1, output_size=1, hidden_dim=100)\n",
    "# hyperparameters\n",
    "n_epochs = 1000\n",
    "lr = .01\n",
    "\n",
    "# define loss and optimizer \n",
    "criterion = nn.MSELoss()\n",
    "optimizer = torch.optim.Adam(model.parameters(), lr=lr)"
   ]
  },
  {
   "cell_type": "code",
   "execution_count": 20,
   "metadata": {},
   "outputs": [
    {
     "name": "stdout",
     "output_type": "stream",
     "text": [
      "RnnModel(\n",
      "  (lstm): LSTM(1, 100)\n",
      "  (fc): Linear(in_features=100, out_features=1, bias=True)\n",
      ")\n"
     ]
    }
   ],
   "source": [
    "print(model)"
   ]
  },
  {
   "cell_type": "code",
   "execution_count": 21,
   "metadata": {},
   "outputs": [
    {
     "name": "stdout",
     "output_type": "stream",
     "text": [
      "Epoch: 0/1000.........\n",
      "Loss: 0.136362686753273\n",
      "Epoch: 10/1000.........\n",
      "Loss: 0.0369807668030262\n",
      "Epoch: 20/1000.........\n",
      "Loss: 0.05091007426381111\n",
      "Epoch: 30/1000.........\n",
      "Loss: 0.04373437911272049\n",
      "Epoch: 40/1000.........\n",
      "Loss: 0.06199365109205246\n",
      "Epoch: 50/1000.........\n",
      "Loss: 0.05286121368408203\n",
      "Epoch: 60/1000.........\n",
      "Loss: 0.06516765803098679\n",
      "Epoch: 70/1000.........\n",
      "Loss: 0.0527677983045578\n",
      "Epoch: 80/1000.........\n",
      "Loss: 0.04624318704009056\n",
      "Epoch: 90/1000.........\n",
      "Loss: 0.04876992851495743\n",
      "Epoch: 100/1000.........\n",
      "Loss: 0.036544132977724075\n",
      "Epoch: 110/1000.........\n",
      "Loss: 0.051345281302928925\n",
      "Epoch: 120/1000.........\n",
      "Loss: 0.02696085534989834\n",
      "Epoch: 130/1000.........\n",
      "Loss: 0.02214660681784153\n",
      "Epoch: 140/1000.........\n",
      "Loss: 0.017567550763487816\n",
      "Epoch: 150/1000.........\n",
      "Loss: 0.021599341183900833\n",
      "Epoch: 160/1000.........\n",
      "Loss: 0.00698775053024292\n",
      "Epoch: 170/1000.........\n",
      "Loss: 0.027311036363244057\n",
      "Epoch: 180/1000.........\n",
      "Loss: 0.02663726732134819\n",
      "Epoch: 190/1000.........\n",
      "Loss: 0.025526013225317\n",
      "Epoch: 200/1000.........\n",
      "Loss: 0.017123455181717873\n",
      "Epoch: 210/1000.........\n",
      "Loss: 0.009989162907004356\n",
      "Epoch: 220/1000.........\n",
      "Loss: 0.007021815981715918\n",
      "Epoch: 230/1000.........\n",
      "Loss: 0.026309609413146973\n",
      "Epoch: 240/1000.........\n",
      "Loss: 0.007902028039097786\n",
      "Epoch: 250/1000.........\n",
      "Loss: 0.0007050232961773872\n",
      "Epoch: 260/1000.........\n",
      "Loss: 0.0008664491469971836\n",
      "Epoch: 270/1000.........\n",
      "Loss: 0.022599738091230392\n",
      "Epoch: 280/1000.........\n",
      "Loss: 0.0092318095266819\n",
      "Epoch: 290/1000.........\n",
      "Loss: 0.0019849734380841255\n",
      "Epoch: 300/1000.........\n",
      "Loss: 0.0014087629970163107\n",
      "Epoch: 310/1000.........\n",
      "Loss: 0.001638174639083445\n",
      "Epoch: 320/1000.........\n",
      "Loss: 0.03116905502974987\n",
      "Epoch: 330/1000.........\n",
      "Loss: 7.921251381048933e-06\n",
      "Epoch: 340/1000.........\n",
      "Loss: 0.004888006951659918\n",
      "Epoch: 350/1000.........\n",
      "Loss: 0.007985006086528301\n",
      "Epoch: 360/1000.........\n",
      "Loss: 0.010355349630117416\n",
      "Epoch: 370/1000.........\n",
      "Loss: 0.0011454310733824968\n",
      "Epoch: 380/1000.........\n",
      "Loss: 0.00026141235139220953\n",
      "Epoch: 390/1000.........\n",
      "Loss: 0.010306378826498985\n",
      "Epoch: 400/1000.........\n",
      "Loss: 0.00038126661092974246\n",
      "Epoch: 410/1000.........\n",
      "Loss: 9.140051406575367e-05\n",
      "Epoch: 420/1000.........\n",
      "Loss: 0.00028627202846109867\n",
      "Epoch: 430/1000.........\n",
      "Loss: 0.020130515098571777\n",
      "Epoch: 440/1000.........\n",
      "Loss: 0.00012405819143168628\n",
      "Epoch: 450/1000.........\n",
      "Loss: 0.09301791340112686\n",
      "Epoch: 460/1000.........\n",
      "Loss: 0.08205358684062958\n",
      "Epoch: 470/1000.........\n",
      "Loss: 0.03180975839495659\n",
      "Epoch: 480/1000.........\n",
      "Loss: 0.01284076552838087\n",
      "Epoch: 490/1000.........\n",
      "Loss: 0.02029193565249443\n",
      "Epoch: 500/1000.........\n",
      "Loss: 0.007776384707540274\n",
      "Epoch: 510/1000.........\n",
      "Loss: 0.011544223874807358\n",
      "Epoch: 520/1000.........\n",
      "Loss: 0.06644745171070099\n",
      "Epoch: 530/1000.........\n",
      "Loss: 2.4796669094939716e-05\n",
      "Epoch: 540/1000.........\n",
      "Loss: 0.006708881817758083\n",
      "Epoch: 550/1000.........\n",
      "Loss: 0.006517954636365175\n",
      "Epoch: 560/1000.........\n",
      "Loss: 0.002562467008829117\n",
      "Epoch: 570/1000.........\n",
      "Loss: 1.6846879589138553e-05\n",
      "Epoch: 580/1000.........\n",
      "Loss: 0.0059099649079144\n",
      "Epoch: 590/1000.........\n",
      "Loss: 0.0018435843521729112\n",
      "Epoch: 600/1000.........\n",
      "Loss: 0.003466963302344084\n",
      "Epoch: 610/1000.........\n",
      "Loss: 0.006855304818600416\n",
      "Epoch: 620/1000.........\n",
      "Loss: 0.0072362846694886684\n",
      "Epoch: 630/1000.........\n",
      "Loss: 0.006847740150988102\n",
      "Epoch: 640/1000.........\n",
      "Loss: 0.007454368285834789\n",
      "Epoch: 650/1000.........\n",
      "Loss: 0.014693590812385082\n",
      "Epoch: 660/1000.........\n",
      "Loss: 0.0022333613596856594\n",
      "Epoch: 670/1000.........\n",
      "Loss: 0.012710889801383018\n",
      "Epoch: 680/1000.........\n",
      "Loss: 0.018557580187916756\n",
      "Epoch: 690/1000.........\n",
      "Loss: 0.0034251874312758446\n",
      "Epoch: 700/1000.........\n",
      "Loss: 0.004774744156748056\n",
      "Epoch: 710/1000.........\n",
      "Loss: 0.008097060956060886\n",
      "Epoch: 720/1000.........\n",
      "Loss: 0.021457135677337646\n",
      "Epoch: 730/1000.........\n",
      "Loss: 0.008221185766160488\n",
      "Epoch: 740/1000.........\n",
      "Loss: 0.0017332045827060938\n",
      "Epoch: 750/1000.........\n",
      "Loss: 0.007209719158709049\n",
      "Epoch: 760/1000.........\n",
      "Loss: 0.028940165415406227\n",
      "Epoch: 770/1000.........\n",
      "Loss: 0.003393549704924226\n",
      "Epoch: 780/1000.........\n",
      "Loss: 0.0003018375427927822\n",
      "Epoch: 790/1000.........\n",
      "Loss: 0.006984981708228588\n",
      "Epoch: 800/1000.........\n",
      "Loss: 0.009776143357157707\n",
      "Epoch: 810/1000.........\n",
      "Loss: 0.007315969560295343\n",
      "Epoch: 820/1000.........\n",
      "Loss: 0.003618285758420825\n",
      "Epoch: 830/1000.........\n",
      "Loss: 0.025630874559283257\n",
      "Epoch: 840/1000.........\n",
      "Loss: 0.04595448449254036\n",
      "Epoch: 850/1000.........\n",
      "Loss: 0.0046357386745512486\n",
      "Epoch: 860/1000.........\n",
      "Loss: 0.017470726743340492\n",
      "Epoch: 870/1000.........\n",
      "Loss: 0.023961471393704414\n",
      "Epoch: 880/1000.........\n",
      "Loss: 0.005000293254852295\n",
      "Epoch: 890/1000.........\n",
      "Loss: 0.025501174852252007\n",
      "Epoch: 900/1000.........\n",
      "Loss: 0.05776049941778183\n",
      "Epoch: 910/1000.........\n",
      "Loss: 0.038322821259498596\n",
      "Epoch: 920/1000.........\n",
      "Loss: 0.04126988723874092\n",
      "Epoch: 930/1000.........\n",
      "Loss: 0.025749586522579193\n",
      "Epoch: 940/1000.........\n",
      "Loss: 0.08240383118391037\n",
      "Epoch: 950/1000.........\n",
      "Loss: 0.014313994906842709\n",
      "Epoch: 960/1000.........\n",
      "Loss: 0.05094107612967491\n",
      "Epoch: 970/1000.........\n",
      "Loss: 0.01807471178472042\n",
      "Epoch: 980/1000.........\n",
      "Loss: 0.0429890975356102\n",
      "Epoch: 990/1000.........\n",
      "Loss: 0.05146635323762894\n"
     ]
    }
   ],
   "source": [
    "model.to(device)\n",
    "# input_seq.to(device)\n",
    "# target_seq.to(device)\n",
    "for epoch in range(n_epochs):\n",
    "    for seq, labels in train_inout_seq:\n",
    "        seq.to(device)\n",
    "        labels = labels.squeeze(1)\n",
    "        optimizer.zero_grad()\n",
    "        output = model(seq)\n",
    "        loss = criterion(output.to(device), labels.to(device))\n",
    "        loss.backward()\n",
    "        optimizer.step()\n",
    "\n",
    "    if epoch%10 == 0:\n",
    "        print(f'Epoch: {epoch}/{n_epochs}.........')\n",
    "        print(f'Loss: {loss.item()}')\n",
    "    "
   ]
  },
  {
   "cell_type": "code",
   "execution_count": 22,
   "metadata": {},
   "outputs": [
    {
     "name": "stdout",
     "output_type": "stream",
     "text": [
      "[-0.43396225571632385, -0.3962264060974121, -0.35849055647850037, -0.16981132328510284, -0.16981132328510284, -0.1320754736661911, -0.16981132328510284, -0.1320754736661911, -0.09433962404727936, 0.1320754736661911]\n"
     ]
    }
   ],
   "source": [
    "fut_pred = 10\n",
    "\n",
    "test_inputs = uni_data[-uni_past_history:].squeeze(1).tolist()\n",
    "print(test_inputs)"
   ]
  },
  {
   "cell_type": "code",
   "execution_count": 23,
   "metadata": {},
   "outputs": [
    {
     "name": "stdout",
     "output_type": "stream",
     "text": [
      "10\n",
      "11\n",
      "12\n",
      "13\n",
      "14\n",
      "15\n",
      "16\n",
      "17\n",
      "18\n",
      "19\n",
      "[-0.43396225571632385, -0.3962264060974121, -0.35849055647850037, -0.16981132328510284, -0.16981132328510284, -0.1320754736661911, -0.16981132328510284, -0.1320754736661911, -0.09433962404727936, 0.1320754736661911, 0.10868794471025467, 0.7498873472213745, 0.9363391399383545, 1.0591888427734375, 0.5129984617233276, 0.37522435188293457, 0.22714093327522278, 0.019267067313194275, -0.03255665302276611, -0.09973485767841339]\n"
     ]
    }
   ],
   "source": [
    "model.eval()\n",
    "\n",
    "for i in range(uni_past_history):\n",
    "    print(len(test_inputs))\n",
    "    seq = torch.FloatTensor(test_inputs[-uni_past_history:])\n",
    "    with torch.no_grad():\n",
    "        test_inputs.append(model(seq).item())\n",
    "        \n",
    "print(test_inputs)        "
   ]
  },
  {
   "cell_type": "code",
   "execution_count": 24,
   "metadata": {},
   "outputs": [
    {
     "name": "stdout",
     "output_type": "stream",
     "text": [
      "[[231.38023053]\n",
      " [248.3720147 ]\n",
      " [253.31298721]\n",
      " [256.56850433]\n",
      " [242.09445924]\n",
      " [238.44344532]\n",
      " [234.51923473]\n",
      " [229.01057728]\n",
      " [227.63724869]\n",
      " [225.85702627]]\n"
     ]
    }
   ],
   "source": [
    "actual_predictions = scaler.inverse_transform(np.array(test_inputs[10:]).reshape(-1,1))\n",
    "print(actual_predictions)"
   ]
  },
  {
   "cell_type": "code",
   "execution_count": null,
   "metadata": {},
   "outputs": [],
   "source": []
  },
  {
   "cell_type": "code",
   "execution_count": 25,
   "metadata": {},
   "outputs": [],
   "source": [
    "x = np.arange(170,180,1)"
   ]
  },
  {
   "cell_type": "code",
   "execution_count": 26,
   "metadata": {},
   "outputs": [
    {
     "data": {
      "image/png": "[encoded data removed]",
      "text/plain": [
       "<Figure size 432x288 with 1 Axes>"
      ]
     },
     "metadata": {
      "needs_background": "light"
     },
     "output_type": "display_data"
    }
   ],
   "source": [
    "plt.title(\"Time v Price\")\n",
    "plt.ylabel('Price')\n",
    "plt.grid(True)\n",
    "plt.autoscale(axis='x', tight=True)\n",
    "plt.plot(scaler.inverse_transform(uni_data))\n",
    "plt.plot(x, actual_predictions)\n",
    "plt.show()"
   ]
  },
  {
   "cell_type": "code",
   "execution_count": 27,
   "metadata": {},
   "outputs": [
    {
     "data": {
      "image/png": "[encoded data removed]",
      "text/plain": [
       "<Figure size 432x288 with 1 Axes>"
      ]
     },
     "metadata": {
      "needs_background": "light"
     },
     "output_type": "display_data"
    }
   ],
   "source": [
    "plt.title('Time v Price')\n",
    "plt.ylabel('Price')\n",
    "plt.grid(True)\n",
    "plt.autoscale(axis='x', tight=True)\n",
    "\n",
    "plt.plot(x,scaler.inverse_transform(uni_data)[-uni_past_history:])\n",
    "plt.plot(x,actual_predictions)\n",
    "plt.show()"
   ]
  },
  {
   "cell_type": "code",
   "execution_count": null,
   "metadata": {},
   "outputs": [],
   "source": []
  }
 ],
 "metadata": {
  "kernelspec": {
   "display_name": "Python 3",
   "language": "python",
   "name": "python3"
  },
  "language_info": {
   "codemirror_mode": {
    "name": "ipython",
    "version": 3
   },
   "file_extension": ".py",
   "mimetype": "text/x-python",
   "name": "python",
   "nbconvert_exporter": "python",
   "pygments_lexer": "ipython3",
   "version": "3.7.3"
  }
 },
 "nbformat": 4,
 "nbformat_minor": 2
}
