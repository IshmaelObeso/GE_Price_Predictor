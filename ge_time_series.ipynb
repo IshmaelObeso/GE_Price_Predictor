{
 "cells": [
  {
   "cell_type": "code",
   "execution_count": 1,
   "metadata": {},
   "outputs": [],
   "source": [
    "# import \n",
    "import pandas as pd\n",
    "import numpy as np\n",
    "import matplotlib.pyplot as plt\n",
    "\n",
    "import torch\n",
    "import torch.nn as nn\n",
    "from sklearn.preprocessing import MinMaxScaler\n"
   ]
  },
  {
   "cell_type": "code",
   "execution_count": 2,
   "metadata": {},
   "outputs": [
    {
     "data": {
      "text/html": [
       "<div>\n",
       "<style scoped>\n",
       "    .dataframe tbody tr th:only-of-type {\n",
       "        vertical-align: middle;\n",
       "    }\n",
       "\n",
       "    .dataframe tbody tr th {\n",
       "        vertical-align: top;\n",
       "    }\n",
       "\n",
       "    .dataframe thead th {\n",
       "        text-align: right;\n",
       "    }\n",
       "</style>\n",
       "<table border=\"1\" class=\"dataframe\">\n",
       "  <thead>\n",
       "    <tr style=\"text-align: right;\">\n",
       "      <th></th>\n",
       "      <th>timestamp</th>\n",
       "      <th>Fire_rune</th>\n",
       "      <th>Water_rune</th>\n",
       "      <th>Air_rune</th>\n",
       "      <th>Earth_rune</th>\n",
       "      <th>Mind_rune</th>\n",
       "      <th>Body_rune</th>\n",
       "      <th>Death_rune</th>\n",
       "      <th>Nature_rune</th>\n",
       "      <th>Chaos_rune</th>\n",
       "      <th>Law_rune</th>\n",
       "      <th>Cosmic_rune</th>\n",
       "      <th>Blood_rune</th>\n",
       "      <th>Soul_rune</th>\n",
       "    </tr>\n",
       "  </thead>\n",
       "  <tbody>\n",
       "    <tr>\n",
       "      <td>0</td>\n",
       "      <td>1562371200000</td>\n",
       "      <td>5</td>\n",
       "      <td>5</td>\n",
       "      <td>5</td>\n",
       "      <td>5</td>\n",
       "      <td>4</td>\n",
       "      <td>4</td>\n",
       "      <td>209</td>\n",
       "      <td>204</td>\n",
       "      <td>93</td>\n",
       "      <td>192</td>\n",
       "      <td>115</td>\n",
       "      <td>368</td>\n",
       "      <td>147</td>\n",
       "    </tr>\n",
       "    <tr>\n",
       "      <td>1</td>\n",
       "      <td>1562457600000</td>\n",
       "      <td>5</td>\n",
       "      <td>5</td>\n",
       "      <td>5</td>\n",
       "      <td>4</td>\n",
       "      <td>4</td>\n",
       "      <td>4</td>\n",
       "      <td>208</td>\n",
       "      <td>202</td>\n",
       "      <td>93</td>\n",
       "      <td>192</td>\n",
       "      <td>112</td>\n",
       "      <td>376</td>\n",
       "      <td>147</td>\n",
       "    </tr>\n",
       "    <tr>\n",
       "      <td>2</td>\n",
       "      <td>1562544000000</td>\n",
       "      <td>5</td>\n",
       "      <td>5</td>\n",
       "      <td>5</td>\n",
       "      <td>5</td>\n",
       "      <td>4</td>\n",
       "      <td>4</td>\n",
       "      <td>208</td>\n",
       "      <td>202</td>\n",
       "      <td>92</td>\n",
       "      <td>190</td>\n",
       "      <td>114</td>\n",
       "      <td>371</td>\n",
       "      <td>147</td>\n",
       "    </tr>\n",
       "    <tr>\n",
       "      <td>3</td>\n",
       "      <td>1562630400000</td>\n",
       "      <td>5</td>\n",
       "      <td>5</td>\n",
       "      <td>5</td>\n",
       "      <td>5</td>\n",
       "      <td>4</td>\n",
       "      <td>4</td>\n",
       "      <td>208</td>\n",
       "      <td>203</td>\n",
       "      <td>92</td>\n",
       "      <td>188</td>\n",
       "      <td>112</td>\n",
       "      <td>368</td>\n",
       "      <td>147</td>\n",
       "    </tr>\n",
       "    <tr>\n",
       "      <td>4</td>\n",
       "      <td>1562716800000</td>\n",
       "      <td>5</td>\n",
       "      <td>4</td>\n",
       "      <td>5</td>\n",
       "      <td>5</td>\n",
       "      <td>4</td>\n",
       "      <td>4</td>\n",
       "      <td>208</td>\n",
       "      <td>205</td>\n",
       "      <td>92</td>\n",
       "      <td>187</td>\n",
       "      <td>114</td>\n",
       "      <td>368</td>\n",
       "      <td>148</td>\n",
       "    </tr>\n",
       "  </tbody>\n",
       "</table>\n",
       "</div>"
      ],
      "text/plain": [
       "       timestamp  Fire_rune  Water_rune  Air_rune  Earth_rune  Mind_rune  \\\n",
       "0  1562371200000          5           5         5           5          4   \n",
       "1  1562457600000          5           5         5           4          4   \n",
       "2  1562544000000          5           5         5           5          4   \n",
       "3  1562630400000          5           5         5           5          4   \n",
       "4  1562716800000          5           4         5           5          4   \n",
       "\n",
       "   Body_rune  Death_rune  Nature_rune  Chaos_rune  Law_rune  Cosmic_rune  \\\n",
       "0          4         209          204          93       192          115   \n",
       "1          4         208          202          93       192          112   \n",
       "2          4         208          202          92       190          114   \n",
       "3          4         208          203          92       188          112   \n",
       "4          4         208          205          92       187          114   \n",
       "\n",
       "   Blood_rune  Soul_rune  \n",
       "0         368        147  \n",
       "1         376        147  \n",
       "2         371        147  \n",
       "3         368        147  \n",
       "4         368        148  "
      ]
     },
     "execution_count": 2,
     "metadata": {},
     "output_type": "execute_result"
    }
   ],
   "source": [
    "rune_data_filename = 'data/Rune_Data.csv'\n",
    "\n",
    "rune_dataframe = pd.read_csv(rune_data_filename)\n",
    "rune_dataframe.head()"
   ]
  },
  {
   "cell_type": "code",
   "execution_count": 3,
   "metadata": {},
   "outputs": [],
   "source": [
    "# def univariate_data(dataset, start_index, end_index, history_size, target_size):\n",
    "#     data = []\n",
    "#     labels = []\n",
    "    \n",
    "#     start_index = start_index + history_size\n",
    "#     if end_index is None:\n",
    "#         end_index = len(dataset) - target_size\n",
    "    \n",
    "#     for i in range(start_index, end_index):\n",
    "#         indices = range(i-history_size, i)\n",
    "#         # reshape data from (history_size) to (history_size, 1)\n",
    "        \n",
    "#         data.append(np.reshape(dataset[indices], (history_size, 1)))\n",
    "#         labels.append(dataset[i+target_size])\n",
    "#     return np.array(data), np.array(labels)"
   ]
  },
  {
   "cell_type": "code",
   "execution_count": 4,
   "metadata": {},
   "outputs": [],
   "source": [
    "def univariate_data(dataset, history_size):\n",
    "    inout_seq = []\n",
    "    L = len(dataset)\n",
    "    for i in range(L - history_size):\n",
    "        train_seq = dataset[i:i+history_size]\n",
    "        train_label = dataset[i+history_size:i+history_size+1]\n",
    "        inout_seq.append((train_seq, train_label))\n",
    "        \n",
    "    return inout_seq"
   ]
  },
  {
   "cell_type": "code",
   "execution_count": 5,
   "metadata": {},
   "outputs": [],
   "source": [
    "train_split = 120"
   ]
  },
  {
   "cell_type": "code",
   "execution_count": 6,
   "metadata": {},
   "outputs": [
    {
     "data": {
      "text/plain": [
       "timestamp\n",
       "1562371200000    192\n",
       "1562457600000    192\n",
       "1562544000000    190\n",
       "1562630400000    188\n",
       "1562716800000    187\n",
       "Name: Law_rune, dtype: int64"
      ]
     },
     "execution_count": 6,
     "metadata": {},
     "output_type": "execute_result"
    }
   ],
   "source": [
    "uni_data = rune_dataframe['Law_rune']\n",
    "uni_data.index = rune_dataframe['timestamp']\n",
    "\n",
    "uni_data.head()"
   ]
  },
  {
   "cell_type": "code",
   "execution_count": 7,
   "metadata": {},
   "outputs": [
    {
     "data": {
      "text/plain": [
       "<matplotlib.axes._subplots.AxesSubplot at 0x7fcf1855e080>"
      ]
     },
     "execution_count": 7,
     "metadata": {},
     "output_type": "execute_result"
    },
    {
     "data": {
      "image/png": "[encoded data removed]",
      "text/plain": [
       "<Figure size 432x288 with 1 Axes>"
      ]
     },
     "metadata": {
      "needs_background": "light"
     },
     "output_type": "display_data"
    }
   ],
   "source": [
    "uni_data.plot()"
   ]
  },
  {
   "cell_type": "code",
   "execution_count": 8,
   "metadata": {},
   "outputs": [],
   "source": [
    "uni_data = uni_data.values"
   ]
  },
  {
   "cell_type": "code",
   "execution_count": 9,
   "metadata": {},
   "outputs": [],
   "source": [
    "uni_train_mean = uni_data[:train_split].mean()\n",
    "uni_train_std = uni_data[:train_split].std()"
   ]
  },
  {
   "cell_type": "code",
   "execution_count": 10,
   "metadata": {},
   "outputs": [],
   "source": [
    "# normalize data\n",
    "scaler = MinMaxScaler(feature_range=(-1,1))\n",
    "\n",
    "uni_data = scaler.fit_transform(uni_data.reshape(-1,1))\n",
    "uni_data = torch.FloatTensor(uni_data)"
   ]
  },
  {
   "cell_type": "code",
   "execution_count": 11,
   "metadata": {},
   "outputs": [],
   "source": [
    "uni_past_history = 10\n",
    "uni_future_target = 0"
   ]
  },
  {
   "cell_type": "code",
   "execution_count": 12,
   "metadata": {},
   "outputs": [],
   "source": [
    "# x_train_uni , y_train_uni = univariate_data(uni_data, \n",
    "#                                             0, \n",
    "#                                             train_split, \n",
    "#                                             uni_past_history, \n",
    "#                                             uni_future_target)\n",
    "# x_val_uni, y_val_uni = univariate_data(uni_data, \n",
    "#                                        train_split, \n",
    "#                                        None, \n",
    "#                                        uni_past_history, \n",
    "#                                        uni_future_target)\n",
    "\n",
    "train_inout_seq = univariate_data(uni_data, uni_past_history)"
   ]
  },
  {
   "cell_type": "code",
   "execution_count": 13,
   "metadata": {},
   "outputs": [],
   "source": [
    "# print(x_train_uni.shape)\n",
    "# print(y_train_uni.shape)\n",
    "# print(x_train_uni[0])"
   ]
  },
  {
   "cell_type": "code",
   "execution_count": 14,
   "metadata": {},
   "outputs": [
    {
     "name": "stdout",
     "output_type": "stream",
     "text": [
      "170\n"
     ]
    }
   ],
   "source": [
    "print(len(train_inout_seq))"
   ]
  },
  {
   "cell_type": "code",
   "execution_count": 15,
   "metadata": {},
   "outputs": [],
   "source": [
    "# print('Single window of past history')\n",
    "# print(x_train_uni[0].shape)\n",
    "# print('\\n Target to predict')\n",
    "# print(y_train_uni[0])"
   ]
  },
  {
   "cell_type": "code",
   "execution_count": 16,
   "metadata": {},
   "outputs": [],
   "source": [
    "device = torch.device('cuda' if torch.cuda.is_available() else 'cpu')\n",
    "# device = 'cpu'"
   ]
  },
  {
   "cell_type": "code",
   "execution_count": 17,
   "metadata": {},
   "outputs": [],
   "source": [
    "class RnnModel(nn.Module):\n",
    "    def __init__(self, input_size, output_size, hidden_dim):\n",
    "        super().__init__()\n",
    "        \n",
    "        # define some parameters\n",
    "        self.hidden_dim = hidden_dim\n",
    "\n",
    "        # define layers\n",
    "        # RNN layers\n",
    "        self.lstm = nn.LSTM(input_size, hidden_dim)\n",
    "        #FC layers\n",
    "        self.fc = nn.Linear(hidden_dim, output_size)\n",
    "    \n",
    "    def forward(self, x):\n",
    "        x = x.to(device)\n",
    "        # set initial hidden and cell states\n",
    "        h0 = torch.zeros(1,1,self.hidden_dim).to(device)\n",
    "        c0 = torch.zeros(1,1,self.hidden_dim).to(device)\n",
    "        # forward propagate \n",
    "#         print(h0.size())\n",
    "#         print(c0.size())\n",
    "#         print(x.size())\n",
    "#         print(x.view(len(x),1,-1).size())\n",
    "        out, _ = self.lstm(x.view(len(x),1,-1), (h0, c0))\n",
    "        \n",
    "        # decode hidden of last time step\n",
    "        \n",
    "        out = self.fc(out.view(len(x), -1))\n",
    "        \n",
    "        \n",
    "        return out[-1]\n"
   ]
  },
  {
   "cell_type": "code",
   "execution_count": 18,
   "metadata": {},
   "outputs": [],
   "source": [
    "# input_seq = torch.from_numpy(x_train_uni)\n",
    "# target_seq = torch.Tensor(y_train_uni)\n",
    "\n",
    "# input_seq.size()"
   ]
  },
  {
   "cell_type": "code",
   "execution_count": 19,
   "metadata": {},
   "outputs": [],
   "source": [
    "model = RnnModel(input_size=1, output_size=1, hidden_dim=100)\n",
    "# hyperparameters\n",
    "n_epochs = 1000\n",
    "lr = .01\n",
    "\n",
    "# define loss and optimizer \n",
    "criterion = nn.MSELoss()\n",
    "optimizer = torch.optim.Adam(model.parameters(), lr=lr)"
   ]
  },
  {
   "cell_type": "code",
   "execution_count": 20,
   "metadata": {},
   "outputs": [
    {
     "name": "stdout",
     "output_type": "stream",
     "text": [
      "RnnModel(\n",
      "  (lstm): LSTM(1, 100)\n",
      "  (fc): Linear(in_features=100, out_features=1, bias=True)\n",
      ")\n"
     ]
    }
   ],
   "source": [
    "print(model)"
   ]
  },
  {
   "cell_type": "code",
   "execution_count": null,
   "metadata": {},
   "outputs": [
    {
     "name": "stdout",
     "output_type": "stream",
     "text": [
      "Epoch: 0/1000.........\n",
      "Loss: 0.27773433923721313\n",
      "Epoch: 10/1000.........\n",
      "Loss: 0.01092180609703064\n",
      "Epoch: 20/1000.........\n",
      "Loss: 0.007066576741635799\n",
      "Epoch: 30/1000.........\n",
      "Loss: 0.004642852582037449\n",
      "Epoch: 40/1000.........\n",
      "Loss: 0.00023921112006064504\n",
      "Epoch: 50/1000.........\n",
      "Loss: 0.004229301121085882\n",
      "Epoch: 60/1000.........\n",
      "Loss: 0.002296662423759699\n",
      "Epoch: 70/1000.........\n",
      "Loss: 4.548213837551884e-06\n",
      "Epoch: 80/1000.........\n",
      "Loss: 0.0005054125213064253\n",
      "Epoch: 90/1000.........\n",
      "Loss: 2.270611366839148e-05\n",
      "Epoch: 100/1000.........\n",
      "Loss: 0.0007518588099628687\n",
      "Epoch: 110/1000.........\n",
      "Loss: 0.002185830846428871\n",
      "Epoch: 120/1000.........\n",
      "Loss: 2.1587087672969574e-08\n",
      "Epoch: 130/1000.........\n",
      "Loss: 0.0022836553398519754\n",
      "Epoch: 140/1000.........\n",
      "Loss: 0.00047162603004835546\n",
      "Epoch: 150/1000.........\n",
      "Loss: 7.204309804365039e-05\n",
      "Epoch: 160/1000.........\n",
      "Loss: 3.8073001633165404e-05\n",
      "Epoch: 170/1000.........\n",
      "Loss: 0.000529202981851995\n",
      "Epoch: 180/1000.........\n",
      "Loss: 0.003787333844229579\n",
      "Epoch: 190/1000.........\n",
      "Loss: 0.0004903919179923832\n",
      "Epoch: 200/1000.........\n",
      "Loss: 0.002102215075865388\n",
      "Epoch: 210/1000.........\n",
      "Loss: 0.0009486977942287922\n",
      "Epoch: 220/1000.........\n",
      "Loss: 0.0010961275547742844\n",
      "Epoch: 230/1000.........\n",
      "Loss: 0.0014932539779692888\n",
      "Epoch: 240/1000.........\n",
      "Loss: 3.604128505685367e-05\n",
      "Epoch: 250/1000.........\n",
      "Loss: 3.740094143722672e-06\n",
      "Epoch: 260/1000.........\n",
      "Loss: 0.0032728167716413736\n",
      "Epoch: 270/1000.........\n",
      "Loss: 0.00018175400327891111\n",
      "Epoch: 280/1000.........\n",
      "Loss: 0.0023590484634041786\n",
      "Epoch: 290/1000.........\n",
      "Loss: 0.001131767756305635\n",
      "Epoch: 300/1000.........\n",
      "Loss: 8.380375220440328e-05\n"
     ]
    }
   ],
   "source": [
    "model.to(device)\n",
    "# input_seq.to(device)\n",
    "# target_seq.to(device)\n",
    "for epoch in range(n_epochs):\n",
    "    for seq, labels in train_inout_seq:\n",
    "        seq.to(device)\n",
    "        labels = labels.squeeze(1)\n",
    "        optimizer.zero_grad()\n",
    "        output = model(seq)\n",
    "        loss = criterion(output.to(device), labels.to(device))\n",
    "        loss.backward()\n",
    "        optimizer.step()\n",
    "\n",
    "    if epoch%10 == 0:\n",
    "        print(f'Epoch: {epoch}/{n_epochs}.........')\n",
    "        print(f'Loss: {loss.item()}')\n",
    "    "
   ]
  },
  {
   "cell_type": "code",
   "execution_count": null,
   "metadata": {},
   "outputs": [],
   "source": [
    "fut_pred = 10\n",
    "\n",
    "test_inputs = uni_data[-uni_past_history:].squeeze(1).tolist()\n",
    "print(test_inputs)"
   ]
  },
  {
   "cell_type": "code",
   "execution_count": null,
   "metadata": {},
   "outputs": [],
   "source": [
    "model.eval()\n",
    "\n",
    "for i in range(uni_past_history):\n",
    "    print(len(test_inputs))\n",
    "    seq = torch.FloatTensor(test_inputs[-uni_past_history:])\n",
    "    with torch.no_grad():\n",
    "        test_inputs.append(model(seq).item())\n",
    "        \n",
    "print(test_inputs)        "
   ]
  },
  {
   "cell_type": "code",
   "execution_count": null,
   "metadata": {},
   "outputs": [],
   "source": [
    "actual_predictions = scaler.inverse_transform(np.array(test_inputs[10:]).reshape(-1,1))\n",
    "print(actual_predictions)"
   ]
  },
  {
   "cell_type": "code",
   "execution_count": null,
   "metadata": {},
   "outputs": [],
   "source": []
  },
  {
   "cell_type": "code",
   "execution_count": null,
   "metadata": {},
   "outputs": [],
   "source": [
    "x = np.arange(170,180,1)"
   ]
  },
  {
   "cell_type": "code",
   "execution_count": null,
   "metadata": {},
   "outputs": [],
   "source": [
    "plt.title(\"Time v Price\")\n",
    "plt.ylabel('Price')\n",
    "plt.grid(True)\n",
    "plt.autoscale(axis='x', tight=True)\n",
    "plt.plot(scaler.inverse_transform(uni_data))\n",
    "plt.plot(x, actual_predictions)\n",
    "plt.show()"
   ]
  },
  {
   "cell_type": "code",
   "execution_count": null,
   "metadata": {},
   "outputs": [],
   "source": [
    "plt.title('Time v Price')\n",
    "plt.ylabel('Price')\n",
    "plt.grid(True)\n",
    "plt.autoscale(axis='x', tight=True)\n",
    "\n",
    "plt.plot(x,scaler.inverse_transform(uni_data)[-uni_past_history:])\n",
    "plt.plot(x,actual_predictions)\n",
    "plt.show()"
   ]
  },
  {
   "cell_type": "code",
   "execution_count": null,
   "metadata": {},
   "outputs": [],
   "source": []
  }
 ],
 "metadata": {
  "kernelspec": {
   "display_name": "Python 3",
   "language": "python",
   "name": "python3"
  },
  "language_info": {
   "codemirror_mode": {
    "name": "ipython",
    "version": 3
   },
   "file_extension": ".py",
   "mimetype": "text/x-python",
   "name": "python",
   "nbconvert_exporter": "python",
   "pygments_lexer": "ipython3",
   "version": "3.7.3"
  }
 },
 "nbformat": 4,
 "nbformat_minor": 2
}
