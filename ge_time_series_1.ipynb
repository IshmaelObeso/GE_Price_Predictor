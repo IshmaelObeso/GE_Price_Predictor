{
 "cells": [
  {
   "cell_type": "code",
   "execution_count": 1,
   "metadata": {},
   "outputs": [],
   "source": [
    "# import \n",
    "import pandas as pd\n",
    "import numpy as np\n",
    "import matplotlib.pyplot as plt\n",
    "\n",
    "import torch\n",
    "import torch.nn as nn\n",
    "from sklearn.preprocessing import MinMaxScaler\n"
   ]
  },
  {
   "cell_type": "code",
   "execution_count": 2,
   "metadata": {},
   "outputs": [
    {
     "data": {
      "text/html": [
       "<div>\n",
       "<style scoped>\n",
       "    .dataframe tbody tr th:only-of-type {\n",
       "        vertical-align: middle;\n",
       "    }\n",
       "\n",
       "    .dataframe tbody tr th {\n",
       "        vertical-align: top;\n",
       "    }\n",
       "\n",
       "    .dataframe thead th {\n",
       "        text-align: right;\n",
       "    }\n",
       "</style>\n",
       "<table border=\"1\" class=\"dataframe\">\n",
       "  <thead>\n",
       "    <tr style=\"text-align: right;\">\n",
       "      <th></th>\n",
       "      <th>timestamp</th>\n",
       "      <th>Fire_rune</th>\n",
       "      <th>Water_rune</th>\n",
       "      <th>Air_rune</th>\n",
       "      <th>Earth_rune</th>\n",
       "      <th>Mind_rune</th>\n",
       "      <th>Body_rune</th>\n",
       "      <th>Death_rune</th>\n",
       "      <th>Nature_rune</th>\n",
       "      <th>Chaos_rune</th>\n",
       "      <th>Law_rune</th>\n",
       "      <th>Cosmic_rune</th>\n",
       "      <th>Blood_rune</th>\n",
       "      <th>Soul_rune</th>\n",
       "    </tr>\n",
       "  </thead>\n",
       "  <tbody>\n",
       "    <tr>\n",
       "      <td>0</td>\n",
       "      <td>1562371200000</td>\n",
       "      <td>5</td>\n",
       "      <td>5</td>\n",
       "      <td>5</td>\n",
       "      <td>5</td>\n",
       "      <td>4</td>\n",
       "      <td>4</td>\n",
       "      <td>209</td>\n",
       "      <td>204</td>\n",
       "      <td>93</td>\n",
       "      <td>192</td>\n",
       "      <td>115</td>\n",
       "      <td>368</td>\n",
       "      <td>147</td>\n",
       "    </tr>\n",
       "    <tr>\n",
       "      <td>1</td>\n",
       "      <td>1562457600000</td>\n",
       "      <td>5</td>\n",
       "      <td>5</td>\n",
       "      <td>5</td>\n",
       "      <td>4</td>\n",
       "      <td>4</td>\n",
       "      <td>4</td>\n",
       "      <td>208</td>\n",
       "      <td>202</td>\n",
       "      <td>93</td>\n",
       "      <td>192</td>\n",
       "      <td>112</td>\n",
       "      <td>376</td>\n",
       "      <td>147</td>\n",
       "    </tr>\n",
       "    <tr>\n",
       "      <td>2</td>\n",
       "      <td>1562544000000</td>\n",
       "      <td>5</td>\n",
       "      <td>5</td>\n",
       "      <td>5</td>\n",
       "      <td>5</td>\n",
       "      <td>4</td>\n",
       "      <td>4</td>\n",
       "      <td>208</td>\n",
       "      <td>202</td>\n",
       "      <td>92</td>\n",
       "      <td>190</td>\n",
       "      <td>114</td>\n",
       "      <td>371</td>\n",
       "      <td>147</td>\n",
       "    </tr>\n",
       "    <tr>\n",
       "      <td>3</td>\n",
       "      <td>1562630400000</td>\n",
       "      <td>5</td>\n",
       "      <td>5</td>\n",
       "      <td>5</td>\n",
       "      <td>5</td>\n",
       "      <td>4</td>\n",
       "      <td>4</td>\n",
       "      <td>208</td>\n",
       "      <td>203</td>\n",
       "      <td>92</td>\n",
       "      <td>188</td>\n",
       "      <td>112</td>\n",
       "      <td>368</td>\n",
       "      <td>147</td>\n",
       "    </tr>\n",
       "    <tr>\n",
       "      <td>4</td>\n",
       "      <td>1562716800000</td>\n",
       "      <td>5</td>\n",
       "      <td>4</td>\n",
       "      <td>5</td>\n",
       "      <td>5</td>\n",
       "      <td>4</td>\n",
       "      <td>4</td>\n",
       "      <td>208</td>\n",
       "      <td>205</td>\n",
       "      <td>92</td>\n",
       "      <td>187</td>\n",
       "      <td>114</td>\n",
       "      <td>368</td>\n",
       "      <td>148</td>\n",
       "    </tr>\n",
       "  </tbody>\n",
       "</table>\n",
       "</div>"
      ],
      "text/plain": [
       "       timestamp  Fire_rune  Water_rune  Air_rune  Earth_rune  Mind_rune  \\\n",
       "0  1562371200000          5           5         5           5          4   \n",
       "1  1562457600000          5           5         5           4          4   \n",
       "2  1562544000000          5           5         5           5          4   \n",
       "3  1562630400000          5           5         5           5          4   \n",
       "4  1562716800000          5           4         5           5          4   \n",
       "\n",
       "   Body_rune  Death_rune  Nature_rune  Chaos_rune  Law_rune  Cosmic_rune  \\\n",
       "0          4         209          204          93       192          115   \n",
       "1          4         208          202          93       192          112   \n",
       "2          4         208          202          92       190          114   \n",
       "3          4         208          203          92       188          112   \n",
       "4          4         208          205          92       187          114   \n",
       "\n",
       "   Blood_rune  Soul_rune  \n",
       "0         368        147  \n",
       "1         376        147  \n",
       "2         371        147  \n",
       "3         368        147  \n",
       "4         368        148  "
      ]
     },
     "execution_count": 2,
     "metadata": {},
     "output_type": "execute_result"
    }
   ],
   "source": [
    "rune_data_filename = 'data/Rune_Data.csv'\n",
    "\n",
    "rune_dataframe = pd.read_csv(rune_data_filename)\n",
    "rune_dataframe.head()"
   ]
  },
  {
   "cell_type": "code",
   "execution_count": 3,
   "metadata": {},
   "outputs": [],
   "source": [
    "# def univariate_data(dataset, start_index, end_index, history_size, target_size):\n",
    "#     data = []\n",
    "#     labels = []\n",
    "    \n",
    "#     start_index = start_index + history_size\n",
    "#     if end_index is None:\n",
    "#         end_index = len(dataset) - target_size\n",
    "    \n",
    "#     for i in range(start_index, end_index):\n",
    "#         indices = range(i-history_size, i)\n",
    "#         # reshape data from (history_size) to (history_size, 1)\n",
    "        \n",
    "#         data.append(np.reshape(dataset[indices], (history_size, 1)))\n",
    "#         labels.append(dataset[i+target_size])\n",
    "#     return np.array(data), np.array(labels)"
   ]
  },
  {
   "cell_type": "code",
   "execution_count": 4,
   "metadata": {},
   "outputs": [],
   "source": [
    "def univariate_data(dataset, history_size):\n",
    "    inout_seq = []\n",
    "    L = len(dataset)\n",
    "    for i in range(L - history_size):\n",
    "        train_seq = dataset[i:i+history_size]\n",
    "        train_label = dataset[i+history_size:i+history_size+1]\n",
    "        inout_seq.append((train_seq, train_label))\n",
    "        \n",
    "    return inout_seq"
   ]
  },
  {
   "cell_type": "code",
   "execution_count": 5,
   "metadata": {},
   "outputs": [],
   "source": [
    "train_split = 120"
   ]
  },
  {
   "cell_type": "code",
   "execution_count": 6,
   "metadata": {},
   "outputs": [
    {
     "data": {
      "text/plain": [
       "timestamp\n",
       "1562371200000    204\n",
       "1562457600000    202\n",
       "1562544000000    202\n",
       "1562630400000    203\n",
       "1562716800000    205\n",
       "Name: Nature_rune, dtype: int64"
      ]
     },
     "execution_count": 6,
     "metadata": {},
     "output_type": "execute_result"
    }
   ],
   "source": [
    "uni_data = rune_dataframe['Nature_rune']\n",
    "uni_data.index = rune_dataframe['timestamp']\n",
    "\n",
    "uni_data.head()"
   ]
  },
  {
   "cell_type": "code",
   "execution_count": 7,
   "metadata": {},
   "outputs": [
    {
     "data": {
      "text/plain": [
       "<matplotlib.axes._subplots.AxesSubplot at 0x7f859ba43940>"
      ]
     },
     "execution_count": 7,
     "metadata": {},
     "output_type": "execute_result"
    },
    {
     "data": {
      "image/png": "[encoded data removed]",
      "text/plain": [
       "<Figure size 432x288 with 1 Axes>"
      ]
     },
     "metadata": {
      "needs_background": "light"
     },
     "output_type": "display_data"
    }
   ],
   "source": [
    "uni_data.plot()"
   ]
  },
  {
   "cell_type": "code",
   "execution_count": 8,
   "metadata": {},
   "outputs": [],
   "source": [
    "uni_data = uni_data.values"
   ]
  },
  {
   "cell_type": "code",
   "execution_count": 9,
   "metadata": {},
   "outputs": [],
   "source": [
    "uni_train_mean = uni_data[:train_split].mean()\n",
    "uni_train_std = uni_data[:train_split].std()"
   ]
  },
  {
   "cell_type": "code",
   "execution_count": 10,
   "metadata": {},
   "outputs": [
    {
     "name": "stdout",
     "output_type": "stream",
     "text": [
      "tensor([[-0.9245],\n",
      "        [-1.0000],\n",
      "        [-1.0000],\n",
      "        [-0.9623],\n",
      "        [-0.8868]])\n"
     ]
    }
   ],
   "source": [
    "# normalize data\n",
    "scaler = MinMaxScaler(feature_range=(-1,1))\n",
    "\n",
    "uni_data = scaler.fit_transform(uni_data.reshape(-1,1))\n",
    "uni_data = torch.FloatTensor(uni_data)\n",
    "print(uni_data[:5])"
   ]
  },
  {
   "cell_type": "code",
   "execution_count": 11,
   "metadata": {},
   "outputs": [],
   "source": [
    "uni_past_history = 10\n",
    "uni_future_target = 0"
   ]
  },
  {
   "cell_type": "code",
   "execution_count": 12,
   "metadata": {},
   "outputs": [],
   "source": [
    "# x_train_uni , y_train_uni = univariate_data(uni_data, \n",
    "#                                             0, \n",
    "#                                             train_split, \n",
    "#                                             uni_past_history, \n",
    "#                                             uni_future_target)\n",
    "# x_val_uni, y_val_uni = univariate_data(uni_data, \n",
    "#                                        train_split, \n",
    "#                                        None, \n",
    "#                                        uni_past_history, \n",
    "#                                        uni_future_target)\n",
    "\n",
    "train_inout_seq = univariate_data(uni_data, uni_past_history)"
   ]
  },
  {
   "cell_type": "code",
   "execution_count": 13,
   "metadata": {},
   "outputs": [],
   "source": [
    "# print(x_train_uni.shape)\n",
    "# print(y_train_uni.shape)\n",
    "# print(x_train_uni[0])"
   ]
  },
  {
   "cell_type": "code",
   "execution_count": 14,
   "metadata": {},
   "outputs": [
    {
     "name": "stdout",
     "output_type": "stream",
     "text": [
      "170\n",
      "(tensor([[-0.9245],\n",
      "        [-1.0000],\n",
      "        [-1.0000],\n",
      "        [-0.9623],\n",
      "        [-0.8868],\n",
      "        [-0.8491],\n",
      "        [-0.8491],\n",
      "        [-0.8491],\n",
      "        [-0.9245],\n",
      "        [-0.8868]]), tensor([[-0.8491]]))\n"
     ]
    }
   ],
   "source": [
    "print(len(train_inout_seq))\n",
    "print(train_inout_seq[0])"
   ]
  },
  {
   "cell_type": "code",
   "execution_count": 15,
   "metadata": {},
   "outputs": [],
   "source": [
    "# print('Single window of past history')\n",
    "# print(x_train_uni[0].shape)\n",
    "# print('\\n Target to predict')\n",
    "# print(y_train_uni[0])"
   ]
  },
  {
   "cell_type": "code",
   "execution_count": 16,
   "metadata": {},
   "outputs": [],
   "source": [
    "device = torch.device('cuda' if torch.cuda.is_available() else 'cpu')\n",
    "# device = 'cpu'"
   ]
  },
  {
   "cell_type": "code",
   "execution_count": 17,
   "metadata": {},
   "outputs": [],
   "source": [
    "class RnnModel(nn.Module):\n",
    "    def __init__(self, input_size, output_size, hidden_dim):\n",
    "        super().__init__()\n",
    "        \n",
    "        # define some parameters\n",
    "        self.hidden_dim = hidden_dim\n",
    "\n",
    "        # define layers\n",
    "        # RNN layers\n",
    "        self.lstm = nn.LSTM(input_size, hidden_dim)\n",
    "        #FC layers\n",
    "        self.fc = nn.Linear(hidden_dim, output_size)\n",
    "    \n",
    "    def forward(self, x):\n",
    "        x = x.to(device)\n",
    "        # set initial hidden and cell states\n",
    "        h0 = torch.zeros(1,1,self.hidden_dim).to(device)\n",
    "        c0 = torch.zeros(1,1,self.hidden_dim).to(device)\n",
    "        # forward propagate \n",
    "#         print(h0.size())\n",
    "#         print(c0.size())\n",
    "#         print(x.size())\n",
    "#         print(x.view(len(x),1,-1).size())\n",
    "        out, _ = self.lstm(x.view(len(x),1,-1), (h0, c0))\n",
    "        \n",
    "        # decode hidden of last time step\n",
    "        \n",
    "        out = self.fc(out.view(len(x), -1))\n",
    "        \n",
    "        \n",
    "        return out[-1]\n"
   ]
  },
  {
   "cell_type": "code",
   "execution_count": 18,
   "metadata": {},
   "outputs": [],
   "source": [
    "# input_seq = torch.from_numpy(x_train_uni)\n",
    "# target_seq = torch.Tensor(y_train_uni)\n",
    "\n",
    "# input_seq.size()"
   ]
  },
  {
   "cell_type": "code",
   "execution_count": 19,
   "metadata": {},
   "outputs": [],
   "source": [
    "model = RnnModel(input_size=1, output_size=1, hidden_dim=100)\n",
    "# hyperparameters\n",
    "n_epochs = 250\n",
    "lr = .01\n",
    "\n",
    "# define loss and optimizer \n",
    "criterion = nn.MSELoss()\n",
    "optimizer = torch.optim.Adam(model.parameters(), lr=lr)"
   ]
  },
  {
   "cell_type": "code",
   "execution_count": 20,
   "metadata": {},
   "outputs": [
    {
     "name": "stdout",
     "output_type": "stream",
     "text": [
      "RnnModel(\n",
      "  (lstm): LSTM(1, 100)\n",
      "  (fc): Linear(in_features=100, out_features=1, bias=True)\n",
      ")\n"
     ]
    }
   ],
   "source": [
    "print(model)"
   ]
  },
  {
   "cell_type": "code",
   "execution_count": 21,
   "metadata": {},
   "outputs": [
    {
     "name": "stdout",
     "output_type": "stream",
     "text": [
      "Epoch: 0/250.........\n",
      "Loss: 0.11481744050979614\n",
      "Epoch: 10/250.........\n",
      "Loss: 0.036351144313812256\n",
      "Epoch: 20/250.........\n",
      "Loss: 0.07642073184251785\n",
      "Epoch: 30/250.........\n",
      "Loss: 0.033523138612508774\n",
      "Epoch: 40/250.........\n",
      "Loss: 0.06448481976985931\n",
      "Epoch: 50/250.........\n",
      "Loss: 0.05795537680387497\n",
      "Epoch: 60/250.........\n",
      "Loss: 0.044275395572185516\n",
      "Epoch: 70/250.........\n",
      "Loss: 0.028493287041783333\n",
      "Epoch: 80/250.........\n",
      "Loss: 0.03322823718190193\n",
      "Epoch: 90/250.........\n",
      "Loss: 0.018639106303453445\n",
      "Epoch: 100/250.........\n",
      "Loss: 0.04359207674860954\n",
      "Epoch: 110/250.........\n",
      "Loss: 0.09091338515281677\n",
      "Epoch: 120/250.........\n",
      "Loss: 0.021335439756512642\n",
      "Epoch: 130/250.........\n",
      "Loss: 0.030829496681690216\n",
      "Epoch: 140/250.........\n",
      "Loss: 0.03154004365205765\n",
      "Epoch: 150/250.........\n",
      "Loss: 0.016534866765141487\n",
      "Epoch: 160/250.........\n",
      "Loss: 0.0120416060090065\n",
      "Epoch: 170/250.........\n",
      "Loss: 0.01616058312356472\n",
      "Epoch: 180/250.........\n",
      "Loss: 0.02623261697590351\n",
      "Epoch: 190/250.........\n",
      "Loss: 0.0015863297739997506\n",
      "Epoch: 200/250.........\n",
      "Loss: 0.006633402314037085\n",
      "Epoch: 210/250.........\n",
      "Loss: 0.0012857826659455895\n",
      "Epoch: 220/250.........\n",
      "Loss: 0.003836889285594225\n",
      "Epoch: 230/250.........\n",
      "Loss: 8.124727901304141e-05\n",
      "Epoch: 240/250.........\n",
      "Loss: 0.002570953918620944\n"
     ]
    }
   ],
   "source": [
    "model.to(device)\n",
    "# input_seq.to(device)\n",
    "# target_seq.to(device)\n",
    "for epoch in range(n_epochs):\n",
    "    for seq, labels in train_inout_seq:\n",
    "\n",
    "        seq.to(device)\n",
    "        labels = labels.squeeze(1)\n",
    "\n",
    "        optimizer.zero_grad()\n",
    "        output = model(seq)\n",
    "        loss = criterion(output.to(device), labels.to(device))\n",
    "        loss.backward()\n",
    "        optimizer.step()\n",
    "\n",
    "    if epoch%10 == 0:\n",
    "        print(f'Epoch: {epoch}/{n_epochs}.........')\n",
    "        print(f'Loss: {loss.item()}')\n",
    "    "
   ]
  },
  {
   "cell_type": "code",
   "execution_count": 22,
   "metadata": {},
   "outputs": [
    {
     "name": "stdout",
     "output_type": "stream",
     "text": [
      "[-0.43396225571632385, -0.3962264060974121, -0.35849055647850037, -0.16981132328510284, -0.16981132328510284, -0.1320754736661911, -0.16981132328510284, -0.1320754736661911, -0.09433962404727936, 0.1320754736661911]\n"
     ]
    }
   ],
   "source": [
    "fut_pred = 10\n",
    "\n",
    "test_inputs = uni_data[-uni_past_history:].squeeze(1).tolist()\n",
    "print(test_inputs)"
   ]
  },
  {
   "cell_type": "code",
   "execution_count": 23,
   "metadata": {},
   "outputs": [
    {
     "name": "stdout",
     "output_type": "stream",
     "text": [
      "10\n",
      "11\n",
      "12\n",
      "13\n",
      "14\n",
      "15\n",
      "16\n",
      "17\n",
      "18\n",
      "19\n",
      "[-0.43396225571632385, -0.3962264060974121, -0.35849055647850037, -0.16981132328510284, -0.16981132328510284, -0.1320754736661911, -0.16981132328510284, -0.1320754736661911, -0.09433962404727936, 0.1320754736661911, 0.23976589739322662, 0.24372966587543488, 0.13113735616207123, -0.13571734726428986, -0.36557623744010925, -0.43509966135025024, -0.6443831324577332, -0.9086284637451172, -1.3575074672698975, -2.2356410026550293]\n"
     ]
    }
   ],
   "source": [
    "model.eval()\n",
    "\n",
    "for i in range(uni_past_history):\n",
    "    print(len(test_inputs))\n",
    "    seq = torch.FloatTensor(test_inputs[-uni_past_history:])\n",
    "    with torch.no_grad():\n",
    "        test_inputs.append(model(seq).item())\n",
    "        \n",
    "print(test_inputs)        "
   ]
  },
  {
   "cell_type": "code",
   "execution_count": 24,
   "metadata": {},
   "outputs": [
    {
     "name": "stdout",
     "output_type": "stream",
     "text": [
      "[[234.85379628]\n",
      " [234.95883615]\n",
      " [231.97513994]\n",
      " [224.9034903 ]\n",
      " [218.81222971]\n",
      " [216.96985897]\n",
      " [211.42384699]\n",
      " [204.42134571]\n",
      " [192.52605212]\n",
      " [169.25551343]]\n"
     ]
    }
   ],
   "source": [
    "actual_predictions = scaler.inverse_transform(np.array(test_inputs[10:]).reshape(-1,1))\n",
    "print(actual_predictions)"
   ]
  },
  {
   "cell_type": "code",
   "execution_count": 25,
   "metadata": {},
   "outputs": [
    {
     "name": "stdout",
     "output_type": "stream",
     "text": [
      "tensor([[-0.9245],\n",
      "        [-1.0000],\n",
      "        [-1.0000],\n",
      "        [-0.9623],\n",
      "        [-0.8868],\n",
      "        [-0.8491],\n",
      "        [-0.8491],\n",
      "        [-0.8491],\n",
      "        [-0.9245],\n",
      "        [-0.8868],\n",
      "        [-0.8491],\n",
      "        [-0.7736],\n",
      "        [-0.7358],\n",
      "        [-0.6981],\n",
      "        [-0.6604],\n",
      "        [-0.6981],\n",
      "        [-0.6604],\n",
      "        [-0.5472],\n",
      "        [-0.5094],\n",
      "        [-0.5472],\n",
      "        [-0.5472],\n",
      "        [-0.5472],\n",
      "        [-0.6226],\n",
      "        [-0.6604],\n",
      "        [-0.6604],\n",
      "        [-0.6604],\n",
      "        [-0.7736],\n",
      "        [-0.8491],\n",
      "        [-0.8868],\n",
      "        [-0.8868],\n",
      "        [-0.7736],\n",
      "        [-0.7736],\n",
      "        [-0.7736],\n",
      "        [-0.7736],\n",
      "        [-0.7736],\n",
      "        [-0.7358],\n",
      "        [-0.6981],\n",
      "        [-0.6604],\n",
      "        [-0.5849],\n",
      "        [-0.6226],\n",
      "        [-0.6226],\n",
      "        [-0.6604],\n",
      "        [-0.6981],\n",
      "        [-0.6981],\n",
      "        [-0.5849],\n",
      "        [-0.5849],\n",
      "        [-0.5849],\n",
      "        [-0.5849],\n",
      "        [-0.5849],\n",
      "        [-0.5849],\n",
      "        [-0.5849],\n",
      "        [-0.5849],\n",
      "        [-0.5849],\n",
      "        [-0.5849],\n",
      "        [-0.6226],\n",
      "        [-0.6604],\n",
      "        [-0.7736],\n",
      "        [-0.9245],\n",
      "        [-0.9245],\n",
      "        [-0.9245],\n",
      "        [-0.8491],\n",
      "        [-0.7358],\n",
      "        [-0.6981],\n",
      "        [-0.7358],\n",
      "        [-0.7736],\n",
      "        [-0.8113],\n",
      "        [-0.8113],\n",
      "        [-0.8113],\n",
      "        [-0.8491],\n",
      "        [-0.8491],\n",
      "        [-0.8113],\n",
      "        [-0.6981],\n",
      "        [-0.5849],\n",
      "        [-0.4340],\n",
      "        [-0.3962],\n",
      "        [-0.4340],\n",
      "        [-0.5094],\n",
      "        [-0.5849],\n",
      "        [-0.6226],\n",
      "        [-0.5472],\n",
      "        [-0.3585],\n",
      "        [-0.1321],\n",
      "        [-0.1321],\n",
      "        [-0.1321],\n",
      "        [-0.1698],\n",
      "        [-0.2075],\n",
      "        [-0.1698],\n",
      "        [-0.1698],\n",
      "        [-0.0566],\n",
      "        [ 0.0943],\n",
      "        [ 0.3208],\n",
      "        [ 0.3962],\n",
      "        [ 0.4717],\n",
      "        [ 0.5849],\n",
      "        [ 0.8868],\n",
      "        [ 0.8113],\n",
      "        [ 0.6981],\n",
      "        [ 0.5472],\n",
      "        [ 0.5094],\n",
      "        [ 0.3962],\n",
      "        [ 0.3585],\n",
      "        [ 0.4717],\n",
      "        [ 0.4717],\n",
      "        [ 0.4717],\n",
      "        [ 0.4340],\n",
      "        [ 0.3585],\n",
      "        [ 0.3208],\n",
      "        [ 0.3208],\n",
      "        [ 0.2830],\n",
      "        [ 0.2075],\n",
      "        [ 0.1698],\n",
      "        [ 0.0566],\n",
      "        [-0.0943],\n",
      "        [-0.2453],\n",
      "        [-0.1698],\n",
      "        [-0.0943],\n",
      "        [-0.0943],\n",
      "        [-0.0566],\n",
      "        [-0.0189],\n",
      "        [-0.0943],\n",
      "        [-0.0566],\n",
      "        [ 0.0189],\n",
      "        [ 0.1321],\n",
      "        [ 0.1321],\n",
      "        [ 0.0943],\n",
      "        [ 0.0566],\n",
      "        [-0.0189],\n",
      "        [-0.0566],\n",
      "        [ 0.0189],\n",
      "        [ 0.0943],\n",
      "        [ 0.2453],\n",
      "        [ 0.2075],\n",
      "        [ 0.1698],\n",
      "        [ 0.0566],\n",
      "        [-0.1321],\n",
      "        [-0.1321],\n",
      "        [-0.1698],\n",
      "        [-0.1698],\n",
      "        [-0.2075],\n",
      "        [-0.2453],\n",
      "        [-0.3208],\n",
      "        [-0.3962],\n",
      "        [-0.4717],\n",
      "        [-0.4340],\n",
      "        [-0.3962],\n",
      "        [-0.3585],\n",
      "        [-0.2075],\n",
      "        [ 0.1321],\n",
      "        [ 0.3962],\n",
      "        [ 0.7736],\n",
      "        [ 1.0000],\n",
      "        [ 0.9623],\n",
      "        [ 0.6604],\n",
      "        [ 0.2830],\n",
      "        [ 0.0189],\n",
      "        [-0.2830],\n",
      "        [-0.2453],\n",
      "        [-0.0189],\n",
      "        [ 0.0189],\n",
      "        [-0.0566],\n",
      "        [-0.2075],\n",
      "        [-0.2830],\n",
      "        [-0.3585],\n",
      "        [-0.3585],\n",
      "        [-0.3962],\n",
      "        [-0.4717],\n",
      "        [-0.4717],\n",
      "        [-0.4717],\n",
      "        [-0.4717],\n",
      "        [-0.5094],\n",
      "        [-0.4340],\n",
      "        [-0.3962],\n",
      "        [-0.3585],\n",
      "        [-0.1698],\n",
      "        [-0.1698],\n",
      "        [-0.1321],\n",
      "        [-0.1698],\n",
      "        [-0.1321],\n",
      "        [-0.0943],\n",
      "        [ 0.1321]])\n"
     ]
    }
   ],
   "source": [
    "print(uni_data)"
   ]
  },
  {
   "cell_type": "code",
   "execution_count": 26,
   "metadata": {},
   "outputs": [],
   "source": [
    "x = np.arange(170,180,1)"
   ]
  },
  {
   "cell_type": "code",
   "execution_count": 27,
   "metadata": {},
   "outputs": [
    {
     "data": {
      "image/png": "[encoded data removed]",
      "text/plain": [
       "<Figure size 432x288 with 1 Axes>"
      ]
     },
     "metadata": {
      "needs_background": "light"
     },
     "output_type": "display_data"
    }
   ],
   "source": [
    "plt.title(\"Time v Price\")\n",
    "plt.ylabel('Price')\n",
    "plt.grid(True)\n",
    "plt.autoscale(axis='x', tight=True)\n",
    "plt.plot(scaler.inverse_transform(uni_data))\n",
    "plt.plot(x, actual_predictions)\n",
    "plt.show()"
   ]
  },
  {
   "cell_type": "code",
   "execution_count": 28,
   "metadata": {},
   "outputs": [
    {
     "data": {
      "image/png": "[encoded data removed]",
      "text/plain": [
       "<Figure size 432x288 with 1 Axes>"
      ]
     },
     "metadata": {
      "needs_background": "light"
     },
     "output_type": "display_data"
    }
   ],
   "source": [
    "plt.title('Time v Price')\n",
    "plt.ylabel('Price')\n",
    "plt.grid(True)\n",
    "plt.autoscale(axis='x', tight=True)\n",
    "\n",
    "plt.plot(x,scaler.inverse_transform(uni_data)[-uni_past_history:])\n",
    "plt.plot(x,actual_predictions)\n",
    "plt.show()"
   ]
  },
  {
   "cell_type": "code",
   "execution_count": null,
   "metadata": {},
   "outputs": [],
   "source": []
  },
  {
   "cell_type": "code",
   "execution_count": null,
   "metadata": {},
   "outputs": [],
   "source": []
  }
 ],
 "metadata": {
  "kernelspec": {
   "display_name": "Python 3",
   "language": "python",
   "name": "python3"
  },
  "language_info": {
   "codemirror_mode": {
    "name": "ipython",
    "version": 3
   },
   "file_extension": ".py",
   "mimetype": "text/x-python",
   "name": "python",
   "nbconvert_exporter": "python",
   "pygments_lexer": "ipython3",
   "version": "3.7.3"
  }
 },
 "nbformat": 4,
 "nbformat_minor": 2
}
